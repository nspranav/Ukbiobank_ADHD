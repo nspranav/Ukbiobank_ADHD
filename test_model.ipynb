{
 "cells": [
  {
   "cell_type": "code",
   "execution_count": 1,
   "metadata": {},
   "outputs": [],
   "source": [
    "!export PYTORCH_CUDA_ALLOC_CONF=max_split_size_mb:4096"
   ]
  },
  {
   "cell_type": "code",
   "execution_count": 1,
   "metadata": {},
   "outputs": [],
   "source": [
    "import numpy as np\n",
    "import os\n",
    "\n",
    "from captum.attr import IntegratedGradients\n",
    "\n",
    "import torch\n",
    "from torch import nn \n",
    "from torch.utils.data import DataLoader\n",
    "from torch.utils.data.sampler import SubsetRandomSampler\n",
    "\n",
    "from custom_dataset import CustomDataset\n",
    "from network import Network\n",
    "from utils import *"
   ]
  },
  {
   "cell_type": "code",
   "execution_count": 2,
   "metadata": {},
   "outputs": [
    {
     "data": {
      "text/plain": [
       "1"
      ]
     },
     "execution_count": 2,
     "metadata": {},
     "output_type": "execute_result"
    }
   ],
   "source": [
    "torch.cuda.device_count()"
   ]
  },
  {
   "cell_type": "code",
   "execution_count": 4,
   "metadata": {},
   "outputs": [
    {
     "name": "stdout",
     "output_type": "stream",
     "text": [
      "Using cuda device\n"
     ]
    },
    {
     "data": {
      "text/plain": [
       "<All keys matched successfully>"
      ]
     },
     "execution_count": 4,
     "metadata": {},
     "output_type": "execute_result"
    }
   ],
   "source": [
    "\n",
    "parent_directory = '/data/users2/pnadigapusuresh1/JobOutputs'\n",
    "device = \"cuda\" if torch.cuda.is_available() else \"cpu\"\n",
    "print(\"Using {} device\".format(device))\n",
    "\n",
    "model = Network()\n",
    "model.fc1 = nn.Sequential(nn.Linear(512,128),nn.ReLU(), nn.Dropout(0.1),\n",
    "                nn.Linear(128,2),nn.ReLU())\n",
    "model = nn.DataParallel(model)\n",
    "model.to(device)\n",
    "\n",
    "# Loading the model from Job 5436878\n",
    "#loading model from 6066159\n",
    "load_path = os.path.join(parent_directory,'6066159','models','epoch_170')\n",
    "\n",
    "model.load_state_dict(torch.load(load_path))"
   ]
  },
  {
   "cell_type": "code",
   "execution_count": null,
   "metadata": {},
   "outputs": [],
   "source": [
    "#%%\n",
    "########################\n",
    "# Loading the Data #####\n",
    "########################\n",
    "\n",
    "torch.manual_seed(52)\n",
    "np.random.seed(52)\n",
    "# number of subprocesses to use for data loading\n",
    "num_workers = 1\n",
    "# how many samples per batch to load\n",
    "batch_size = 5"
   ]
  },
  {
   "cell_type": "code",
   "execution_count": null,
   "metadata": {},
   "outputs": [],
   "source": [
    "\n",
    "valid_data = CustomDataset(train= False,test=False)\n",
    "\n",
    "# get filtered variables\n",
    "vars = valid_data.vars\n",
    "\n",
    "valid_sampler = SubsetRandomSampler(list(range(len(vars))))\n",
    "\n",
    "valid_loader = DataLoader(valid_data,batch_size=batch_size, \n",
    "                            sampler= valid_sampler, num_workers=num_workers)"
   ]
  },
  {
   "cell_type": "code",
   "execution_count": null,
   "metadata": {},
   "outputs": [],
   "source": [
    "len(vars)"
   ]
  },
  {
   "cell_type": "code",
   "execution_count": null,
   "metadata": {},
   "outputs": [],
   "source": [
    "X,y = next(iter(valid_loader))\n",
    "#X,y = X.to(device),y.to(device)"
   ]
  },
  {
   "cell_type": "code",
   "execution_count": null,
   "metadata": {},
   "outputs": [],
   "source": [
    "y"
   ]
  },
  {
   "cell_type": "code",
   "execution_count": null,
   "metadata": {},
   "outputs": [],
   "source": [
    "ig = IntegratedGradients(model)"
   ]
  },
  {
   "cell_type": "code",
   "execution_count": null,
   "metadata": {},
   "outputs": [],
   "source": [
    "for X,y in valid_loader:\n",
    "    X,y = X.to(device),y.to(device)\n",
    "    X.requires_grad_()\n",
    "    attr, delta = ig.attribute(torch.unsqueeze(X,1).float(),target=y, return_convergence_delta=True, \n",
    "                    internal_batch_size=4)\n",
    "    attr = attr.detach().cpu().numpy()\n",
    "    if y == 0:\n",
    "        attr_0 = (attr_0 + attr)\n",
    "    else:\n",
    "        attr_1 = (attr_1 + attr)\n",
    "    with open('attr_0.npy', 'wb') as f:\n",
    "        np.save(f, attr_0)\n",
    "    with open('attr_1.npy', 'wb') as f:\n",
    "        np.save(f, attr_1)"
   ]
  },
  {
   "cell_type": "markdown",
   "metadata": {},
   "source": [
    "# Testing the model Performance on the whole dataset"
   ]
  },
  {
   "cell_type": "code",
   "execution_count": null,
   "metadata": {},
   "outputs": [],
   "source": [
    "actual_valid = torch.tensor([]).to(device)\n",
    "pred_valid = torch.tensor([]).to(device)\n",
    "for X,y in valid_loader:\n",
    "    X, y = X.to(device), y.to(device)\n",
    "    actual_valid = torch.cat((actual_valid,y),0)\n",
    "    pred = model(torch.unsqueeze(X,1).float())\n",
    "    pred_valid = torch.cat((pred_valid,torch.argmax(pred,1)),0)"
   ]
  },
  {
   "cell_type": "code",
   "execution_count": null,
   "metadata": {},
   "outputs": [],
   "source": [
    "ConfusionMatrixDisplay.from_predictions(actual_valid.detach().cpu().numpy(),pred_valid.detach().cpu().numpy())"
   ]
  },
  {
   "cell_type": "code",
   "execution_count": null,
   "metadata": {},
   "outputs": [],
   "source": [
    "ConfusionMatrixDisplay.from_predictions(actual_valid.detach().cpu().numpy(),pred_valid.detach().cpu().numpy())"
   ]
  },
  {
   "cell_type": "code",
   "execution_count": null,
   "metadata": {},
   "outputs": [],
   "source": [
    "(2408 + 1356)/5469"
   ]
  },
  {
   "cell_type": "code",
   "execution_count": null,
   "metadata": {},
   "outputs": [],
   "source": [
    "vars.new_score.value_counts()"
   ]
  },
  {
   "cell_type": "code",
   "execution_count": null,
   "metadata": {},
   "outputs": [],
   "source": [
    "from captum.attr import visualization as viz"
   ]
  },
  {
   "cell_type": "code",
   "execution_count": null,
   "metadata": {},
   "outputs": [],
   "source": [
    "from torch.utils.tensorboard import SummaryWriter\n",
    "parent_directory = '/data/users2/pnadigapusuresh1/JobOutputs'\n",
    "path = os.path.join(parent_directory,'Activations_1')\n",
    "writer = SummaryWriter(log_dir=path)"
   ]
  },
  {
   "cell_type": "code",
   "execution_count": null,
   "metadata": {},
   "outputs": [],
   "source": [
    "attr_1 = np.load('attr_1.npy')\n",
    "attr_0 = np.load('attr_0.npy')"
   ]
  },
  {
   "cell_type": "code",
   "execution_count": null,
   "metadata": {},
   "outputs": [],
   "source": [
    "attr_1.shape"
   ]
  },
  {
   "cell_type": "code",
   "execution_count": null,
   "metadata": {},
   "outputs": [],
   "source": [
    "attr_1 = attr_1/1968\n",
    "attr_0 = attr_0/3501 "
   ]
  },
  {
   "cell_type": "code",
   "execution_count": null,
   "metadata": {},
   "outputs": [],
   "source": [
    "a1 = np.squeeze(attr_1)\n",
    "a0 = np.squeeze(attr_0)"
   ]
  },
  {
   "cell_type": "code",
   "execution_count": null,
   "metadata": {},
   "outputs": [],
   "source": [
    "fig,axes = viz.visualize_image_attr(np.expand_dims(X[65],axis=2),np.expand_dims(a1[65],axis=2),method='blended_heat_map',sign='all')"
   ]
  },
  {
   "cell_type": "code",
   "execution_count": null,
   "metadata": {},
   "outputs": [],
   "source": [
    "for i in range(121):\n",
    "    try:\n",
    "        fig,axes = viz.visualize_image_attr(np.expand_dims(X[i],axis=2),np.expand_dims(attr_1[i],axis=2),method='blended_heat_map',sign = 'all')\n",
    "        writer.add_figure('Slice',fig,i+1)\n",
    "    except:\n",
    "        print(i)"
   ]
  },
  {
   "cell_type": "code",
   "execution_count": null,
   "metadata": {},
   "outputs": [],
   "source": [
    "fig, axes = plt.subplots(1,10)\n",
    "for i,j in enumerate(range(60,70)):\n",
    "    axes[i].imshow(X[:,j,:].T,cmap=\"gray\", origin=\"lower\")"
   ]
  },
  {
   "cell_type": "code",
   "execution_count": null,
   "metadata": {},
   "outputs": [],
   "source": [
    "mask = np.abs(a1) > 1e-2"
   ]
  },
  {
   "cell_type": "code",
   "execution_count": null,
   "metadata": {},
   "outputs": [],
   "source": [
    "mask.shape"
   ]
  },
  {
   "cell_type": "code",
   "execution_count": null,
   "metadata": {},
   "outputs": [],
   "source": [
    "import json"
   ]
  },
  {
   "cell_type": "code",
   "execution_count": null,
   "metadata": {},
   "outputs": [],
   "source": [
    "with open('region_labels.json','r') as f:\n",
    "    l = json.load(f)"
   ]
  },
  {
   "cell_type": "code",
   "execution_count": null,
   "metadata": {},
   "outputs": [],
   "source": [
    "labels = {v:{'attr_sum':0,'attrs':[]} for k,v in l.items()}"
   ]
  },
  {
   "cell_type": "code",
   "execution_count": null,
   "metadata": {},
   "outputs": [],
   "source": [
    "from nilearn.image import load_img \n",
    "imf = load_img('/trdapps/linux-x86_64/matlab/toolboxes/spm12/tpm/labels_Neuromorphometrics.nii').get_fdata()"
   ]
  },
  {
   "cell_type": "code",
   "execution_count": null,
   "metadata": {},
   "outputs": [],
   "source": [
    "imf = load_img('/trdapps/linux-x86_64/matlab/toolboxes/spm12/tpm/labels_Neuromorphometrics.nii').get_fdata()"
   ]
  },
  {
   "cell_type": "code",
   "execution_count": null,
   "metadata": {},
   "outputs": [],
   "source": [
    "str(int(imf[27,102,68]))"
   ]
  },
  {
   "cell_type": "code",
   "execution_count": null,
   "metadata": {},
   "outputs": [],
   "source": [
    "for i in range(X.shape[0]):\n",
    "    for j in range(X.shape[1]):\n",
    "        for k in range(X.shape[2]):\n",
    "            if mask[i,j,k]:\n",
    "                #print(i,j,k)\n",
    "                r = imf[i,j,k]\n",
    "                try:\n",
    "                    labels[l[str(int(r))]]['attr_sum'] += np.abs(a1[i,j,k])\n",
    "                    labels[l[str(int(r))]]['attrs'].append(np.abs(a1[i,j,k]))\n",
    "                except KeyError:\n",
    "                    print(r,(i,j,k))"
   ]
  },
  {
   "cell_type": "code",
   "execution_count": null,
   "metadata": {},
   "outputs": [],
   "source": [
    "min(labels['Right Cerebellum Exterior']['attrs']),max(labels['Right Cerebellum Exterior']['attrs'])"
   ]
  },
  {
   "cell_type": "code",
   "execution_count": null,
   "metadata": {},
   "outputs": [],
   "source": [
    "[(v[0],v[1]['attr_sum']) for v in sorted(labels.items(),key=lambda x: x[1]['attr_sum'],reverse=True)]"
   ]
  },
  {
   "cell_type": "code",
   "execution_count": null,
   "metadata": {},
   "outputs": [],
   "source": [
    "labels_0 = {v:{'attr_sum':0,'attrs':[]} for k,v in l.items()}"
   ]
  },
  {
   "cell_type": "code",
   "execution_count": null,
   "metadata": {},
   "outputs": [],
   "source": [
    "mask_0 = np.abs(a0) > 1e-2"
   ]
  },
  {
   "cell_type": "code",
   "execution_count": null,
   "metadata": {},
   "outputs": [],
   "source": [
    "for i in range(X.shape[0]):\n",
    "    for j in range(X.shape[1]):\n",
    "        for k in range(X.shape[2]):\n",
    "            if mask_0[i,j,k]:\n",
    "                #print(i,j,k)\n",
    "                r = imf[i,j,k]\n",
    "                try:\n",
    "                    labels_0[l[str(int(r))]]['attr_sum'] += np.abs(a0[i,j,k])\n",
    "                    labels_0[l[str(int(r))]]['attrs'].append(np.abs(a0[i,j,k]))\n",
    "                except KeyError:\n",
    "                    print(r,(i,j,k))"
   ]
  },
  {
   "cell_type": "code",
   "execution_count": null,
   "metadata": {},
   "outputs": [],
   "source": [
    "[(v[0],v[1]['attr_sum']) for v in sorted(labels_0.items(),key=lambda x: x[1]['attr_sum'],reverse=True)]"
   ]
  },
  {
   "cell_type": "code",
   "execution_count": null,
   "metadata": {},
   "outputs": [],
   "source": [
    "l_cerebellum_exterior = imf == 57"
   ]
  },
  {
   "cell_type": "code",
   "execution_count": null,
   "metadata": {},
   "outputs": [],
   "source": [
    "l_cerebellum_exterior.astype(int)"
   ]
  },
  {
   "cell_type": "code",
   "execution_count": null,
   "metadata": {},
   "outputs": [],
   "source": [
    "affine = np.array([[  -1.5,    0. ,    0. ,   90. ],\n",
    "       [   0. ,    1.5,    0. , -126. ],\n",
    "       [   0. ,    0. ,    1.5,  -72. ],\n",
    "       [   0. ,    0. ,    0. ,    1. ]])"
   ]
  },
  {
   "cell_type": "code",
   "execution_count": null,
   "metadata": {},
   "outputs": [],
   "source": [
    "import nibabel as nib"
   ]
  },
  {
   "cell_type": "code",
   "execution_count": null,
   "metadata": {},
   "outputs": [],
   "source": [
    "array_img = nib.Nifti1Image(l_cerebellum_exterior.astype(int), affine)"
   ]
  },
  {
   "cell_type": "code",
   "execution_count": null,
   "metadata": {},
   "outputs": [],
   "source": [
    "nib.save(array_img,'r_putamen.nii')"
   ]
  },
  {
   "cell_type": "code",
   "execution_count": null,
   "metadata": {},
   "outputs": [],
   "source": [
    "vars.new_score.value_counts()"
   ]
  },
  {
   "cell_type": "code",
   "execution_count": null,
   "metadata": {},
   "outputs": [],
   "source": [
    "3501 + 1968"
   ]
  },
  {
   "cell_type": "code",
   "execution_count": null,
   "metadata": {},
   "outputs": [],
   "source": [
    "from matplotlib import pyplot as plt \n",
    "\n",
    "plt.bar(['0','1'],[3501,1968],color=['blue','green'])\n",
    "plt.xlabel('Labels')\n",
    "plt.ylabel('Number of subjects')\n",
    "#plt.title('Bar plot showing the distribution of lower and higher group ends')\n"
   ]
  },
  {
   "cell_type": "code",
   "execution_count": null,
   "metadata": {},
   "outputs": [],
   "source": [
    "vars.score.value_counts()"
   ]
  },
  {
   "cell_type": "code",
   "execution_count": null,
   "metadata": {},
   "outputs": [],
   "source": [
    "['green'] * 4"
   ]
  },
  {
   "cell_type": "code",
   "execution_count": null,
   "metadata": {},
   "outputs": [],
   "source": [
    "plt.bar(['2','3','4','5','9','10','11','12'],[78,158,800,2465,1582,339,39,8],color = ['blue', 'blue', 'blue', 'blue','green', 'green', 'green', 'green' ])\n",
    "plt.xlabel('Maximumm Digits Remembered')\n",
    "plt.ylabel('Number of subjects')"
   ]
  },
  {
   "cell_type": "code",
   "execution_count": null,
   "metadata": {},
   "outputs": [],
   "source": [
    "3501 + 1968"
   ]
  },
  {
   "cell_type": "code",
   "execution_count": null,
   "metadata": {},
   "outputs": [],
   "source": []
  }
 ],
 "metadata": {
  "interpreter": {
   "hash": "b101a7ee825fcd2f5a7c1becefa556e413ac576d4847d7d0423e65831f79e9ac"
  },
  "kernelspec": {
   "display_name": "Python 3 (ipykernel)",
   "language": "python",
   "name": "python3"
  },
  "language_info": {
   "codemirror_mode": {
    "name": "ipython",
    "version": 3
   },
   "file_extension": ".py",
   "mimetype": "text/x-python",
   "name": "python",
   "nbconvert_exporter": "python",
   "pygments_lexer": "ipython3",
   "version": "3.9.0"
  },
  "orig_nbformat": 4
 },
 "nbformat": 4,
 "nbformat_minor": 2
}
