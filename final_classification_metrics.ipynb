{
 "cells": [
  {
   "cell_type": "code",
   "execution_count": 1,
   "metadata": {},
   "outputs": [],
   "source": [
    "import numpy as np\n",
    "import pandas as pd\n",
    "import argparse\n",
    "import os\n",
    "\n",
    "import torch\n",
    "from torch import nn, optim\n",
    "from torch.utils.data import DataLoader\n",
    "from torchvision import transforms\n",
    "from torch.utils.data.sampler import SubsetRandomSampler\n",
    "import torch.nn.functional as F\n",
    "\n",
    "from custom_dataset import CustomDataset\n",
    "from network import Network\n",
    "from utils import *\n",
    "\n",
    "from sklearn.model_selection import StratifiedShuffleSplit\n",
    "from torch.utils.tensorboard import SummaryWriter\n",
    "from sklearn.metrics import roc_auc_score,balanced_accuracy_score"
   ]
  },
  {
   "cell_type": "code",
   "execution_count": 2,
   "metadata": {},
   "outputs": [],
   "source": [
    "########################\n",
    "# Loading the Data #####\n",
    "########################\n",
    "\n",
    "\n",
    "\n",
    "torch.manual_seed(52)\n",
    "# number of subprocesses to use for data loading\n",
    "num_workers = 4\n",
    "# how many samples per batch to load\n",
    "batch_size = 15\n",
    "if torch.cuda.device_count() > 1:\n",
    "    batch_size *= torch.cuda.device_count()\n",
    "else:\n",
    "    batch_size = 5\n",
    "# percentage of training set to use as validation\n",
    "valid_size = 0.20\n",
    "# percentage of data to be used for testset\n",
    "test_size = 0.10\n",
    "\n",
    "\n",
    "train_data = CustomDataset(transform = \n",
    "                        transforms.Compose([\n",
    "                            transforms.RandomHorizontalFlip()\n",
    "                            ]),train=True)\n",
    "\n",
    "valid_data = CustomDataset(train=False,valid=True)\n",
    "\n",
    "test_data = CustomDataset(train=False,valid=False)\n",
    "\n",
    "# get filtered variables\n",
    "vars = valid_data.vars"
   ]
  },
  {
   "cell_type": "code",
   "execution_count": 4,
   "metadata": {},
   "outputs": [
    {
     "name": "stdout",
     "output_type": "stream",
     "text": [
      "Using cuda device\n"
     ]
    },
    {
     "data": {
      "text/plain": [
       "<All keys matched successfully>"
      ]
     },
     "execution_count": 4,
     "metadata": {},
     "output_type": "execute_result"
    }
   ],
   "source": [
    "sss = StratifiedShuffleSplit(n_splits=5,test_size=0.2,random_state=52)\n",
    "learning_rate = 0.0001\n",
    "fold = 1\n",
    "parent_directory = '/data/users2/pnadigapusuresh1/JobOutputs'\n",
    "\n",
    "split =  sss.split(np.zeros_like(vars),vars.new_score.values)\n",
    "\n",
    "train_idx , valid_idx = next(iter(split))\n",
    "train_sampler = SubsetRandomSampler(train_idx)\n",
    "valid_sampler = SubsetRandomSampler(valid_idx)\n",
    "test_sampler = SubsetRandomSampler(test_data.test_idx)\n",
    "\n",
    "train_loader = DataLoader(train_data,batch_size=batch_size, \n",
    "                            sampler= train_sampler, num_workers=num_workers)\n",
    "valid_loader = DataLoader(valid_data,batch_size=batch_size, \n",
    "                            sampler= valid_sampler, num_workers=num_workers)\n",
    "\n",
    "test_loader = DataLoader(test_data,batch_size=batch_size,\n",
    "                            sampler= test_sampler, num_workers=num_workers)\n",
    "\n",
    "device = \"cuda\" if torch.cuda.is_available() else \"cpu\"\n",
    "print(\"Using {} device\".format(device))\n",
    "\n",
    "model = Network()\n",
    "model.fc1 = nn.Sequential(nn.Linear(512,2))\n",
    "\n",
    "model = nn.DataParallel(model)\n",
    "\n",
    "load_path = os.path.join(parent_directory,'1818979','models_fold','1','epoch_37')\n",
    "model.load_state_dict(torch.load(load_path))\n"
   ]
  },
  {
   "cell_type": "code",
   "execution_count": 6,
   "metadata": {},
   "outputs": [
    {
     "name": "stdout",
     "output_type": "stream",
     "text": [
      "2: ba_train = 0.6359901784473355, ba_valid = 0.6414921900963775, ba_test = 0.6419563279857398\n",
      "3: ba_train = 0.6997673768901504, ba_valid = 0.6854346869302004, ba_test = 0.6848781937017231\n",
      "4: ba_train = 0.6791179695385864, ba_valid = 0.6824391689795478, ba_test = 0.6983511586452763\n",
      "5: ba_train = 0.6699865648572042, ba_valid = 0.675646483971509, ba_test = 0.696301247771836\n",
      "6: ba_train = 0.6755505670977986, ba_valid = 0.6713238662391205, ba_test = 0.6860219845513963\n"
     ]
    },
    {
     "ename": "KeyboardInterrupt",
     "evalue": "",
     "output_type": "error",
     "traceback": [
      "\u001b[0;31m---------------------------------------------------------------------------\u001b[0m",
      "\u001b[0;31mKeyboardInterrupt\u001b[0m                         Traceback (most recent call last)",
      "\u001b[0;32m/tmp/ipykernel_2630761/2599296592.py\u001b[0m in \u001b[0;36m<module>\u001b[0;34m\u001b[0m\n\u001b[1;32m     17\u001b[0m     \u001b[0mpred_proba_test\u001b[0m \u001b[0;34m=\u001b[0m \u001b[0mtorch\u001b[0m\u001b[0;34m.\u001b[0m\u001b[0mtensor\u001b[0m\u001b[0;34m(\u001b[0m\u001b[0;34m[\u001b[0m\u001b[0;34m]\u001b[0m\u001b[0;34m)\u001b[0m\u001b[0;34m.\u001b[0m\u001b[0mto\u001b[0m\u001b[0;34m(\u001b[0m\u001b[0mdevice\u001b[0m\u001b[0;34m)\u001b[0m\u001b[0;34m\u001b[0m\u001b[0;34m\u001b[0m\u001b[0m\n\u001b[1;32m     18\u001b[0m     \u001b[0;32mfor\u001b[0m \u001b[0mX\u001b[0m\u001b[0;34m,\u001b[0m\u001b[0my\u001b[0m\u001b[0;34m,\u001b[0m\u001b[0m_\u001b[0m \u001b[0;32min\u001b[0m \u001b[0mtrain_loader\u001b[0m\u001b[0;34m:\u001b[0m\u001b[0;34m\u001b[0m\u001b[0;34m\u001b[0m\u001b[0m\n\u001b[0;32m---> 19\u001b[0;31m         \u001b[0mX\u001b[0m\u001b[0;34m,\u001b[0m\u001b[0my\u001b[0m \u001b[0;34m=\u001b[0m \u001b[0mX\u001b[0m\u001b[0;34m.\u001b[0m\u001b[0mto\u001b[0m\u001b[0;34m(\u001b[0m\u001b[0mdevice\u001b[0m\u001b[0;34m)\u001b[0m\u001b[0;34m,\u001b[0m\u001b[0my\u001b[0m\u001b[0;34m.\u001b[0m\u001b[0mto\u001b[0m\u001b[0;34m(\u001b[0m\u001b[0mdevice\u001b[0m\u001b[0;34m)\u001b[0m\u001b[0;34m\u001b[0m\u001b[0;34m\u001b[0m\u001b[0m\n\u001b[0m\u001b[1;32m     20\u001b[0m         \u001b[0mactual_train\u001b[0m \u001b[0;34m=\u001b[0m \u001b[0mtorch\u001b[0m\u001b[0;34m.\u001b[0m\u001b[0mcat\u001b[0m\u001b[0;34m(\u001b[0m\u001b[0;34m(\u001b[0m\u001b[0mactual_train\u001b[0m\u001b[0;34m,\u001b[0m\u001b[0my\u001b[0m\u001b[0;34m)\u001b[0m\u001b[0;34m,\u001b[0m\u001b[0;36m0\u001b[0m\u001b[0;34m)\u001b[0m\u001b[0;34m\u001b[0m\u001b[0;34m\u001b[0m\u001b[0m\n\u001b[1;32m     21\u001b[0m         \u001b[0mpred\u001b[0m \u001b[0;34m=\u001b[0m \u001b[0mtorch\u001b[0m\u001b[0;34m.\u001b[0m\u001b[0msqueeze\u001b[0m\u001b[0;34m(\u001b[0m\u001b[0mmodel\u001b[0m\u001b[0;34m(\u001b[0m\u001b[0mtorch\u001b[0m\u001b[0;34m.\u001b[0m\u001b[0munsqueeze\u001b[0m\u001b[0;34m(\u001b[0m\u001b[0mX\u001b[0m\u001b[0;34m,\u001b[0m\u001b[0;36m1\u001b[0m\u001b[0;34m)\u001b[0m\u001b[0;34m.\u001b[0m\u001b[0mfloat\u001b[0m\u001b[0;34m(\u001b[0m\u001b[0;34m)\u001b[0m\u001b[0;34m)\u001b[0m\u001b[0;34m)\u001b[0m\u001b[0;34m\u001b[0m\u001b[0;34m\u001b[0m\u001b[0m\n",
      "\u001b[0;31mKeyboardInterrupt\u001b[0m: "
     ]
    }
   ],
   "source": [
    "for i in range(50):\n",
    "    try:\n",
    "        load_path = os.path.join(parent_directory,'1818979','models_fold','1','epoch_'+str(i))\n",
    "        model.load_state_dict(torch.load(load_path))\n",
    "    except:\n",
    "        continue\n",
    "    \n",
    "\n",
    "    actual_train = torch.tensor([]).to(device)\n",
    "    actual_valid = torch.tensor([]).to(device)\n",
    "    actual_test = torch.tensor([]).to(device)\n",
    "    pred_proba_train = torch.tensor([]).to(device)\n",
    "    pred_train = torch.tensor([]).to(device)\n",
    "    pred_valid = torch.tensor([]).to(device)\n",
    "    pred_proba_valid = torch.tensor([]).to(device)\n",
    "    pred_test = torch.tensor([]).to(device)\n",
    "    pred_proba_test = torch.tensor([]).to(device)\n",
    "    for X,y,_ in train_loader:\n",
    "        X,y = X.to(device),y.to(device)\n",
    "        actual_train = torch.cat((actual_train,y),0)\n",
    "        pred = torch.squeeze(model(torch.unsqueeze(X,1).float()))\n",
    "        soft_max = F.softmax(pred,dim=1)\n",
    "        pred_train = torch.cat((pred_train,torch.max(soft_max, dim=1)   [1]),0)\n",
    "    for X,y,_ in valid_loader:\n",
    "        X,y = X.to(device),y.to(device)\n",
    "        actual_valid = torch.cat((actual_valid,y),0)\n",
    "        pred = torch.squeeze(model(torch.unsqueeze(X,1).float()))\n",
    "        soft_max = F.softmax(pred,dim=1)\n",
    "        pred_valid = torch.cat((pred_valid,torch.max(soft_max, dim=1)   [1]),0)\n",
    "    for X,y,_ in test_loader:\n",
    "        X,y = X.to(device),y.to(device)\n",
    "        actual_test = torch.cat((actual_test,y),0)\n",
    "        pred = torch.squeeze(model(torch.unsqueeze(X,1).float()))\n",
    "        soft_max = F.softmax(pred,dim=1)\n",
    "        pred_test = torch.cat((pred_test,torch.max(soft_max, dim=1)   [1]),0)\n",
    "\n",
    "    ba_train = balanced_accuracy_score(actual_train.detach().cpu().numpy(),pred_train.detach().cpu().numpy())\n",
    "    ba_valid = balanced_accuracy_score(actual_valid.detach().cpu().numpy(),pred_valid.detach().cpu().numpy())\n",
    "    ba_test = balanced_accuracy_score(actual_test.detach().cpu().numpy(),pred_test.detach().cpu().numpy())\n",
    "\n",
    "    print(f'{i+1}: ba_train = {ba_train}, ba_valid = {ba_valid}, ba_test = {ba_test}')"
   ]
  },
  {
   "cell_type": "code",
   "execution_count": null,
   "metadata": {},
   "outputs": [],
   "source": [
    "train_idx , valid_idx = next(iter(split))\n",
    "train_sampler = SubsetRandomSampler(train_idx)\n",
    "valid_sampler = SubsetRandomSampler(valid_idx)\n",
    "test_sampler = SubsetRandomSampler(test_data.test_idx)\n",
    "for i in range(50):\n",
    "    try:\n",
    "        load_path = os.path.join(parent_directory,'1818979','models_fold','2','epoch_'+str(i))\n",
    "        model.load_state_dict(torch.load(load_path))\n",
    "    except:\n",
    "        continue\n",
    "    \n",
    "\n",
    "    actual_train = torch.tensor([]).to(device)\n",
    "    actual_valid = torch.tensor([]).to(device)\n",
    "    actual_test = torch.tensor([]).to(device)\n",
    "    pred_proba_train = torch.tensor([]).to(device)\n",
    "    pred_train = torch.tensor([]).to(device)\n",
    "    pred_valid = torch.tensor([]).to(device)\n",
    "    pred_proba_valid = torch.tensor([]).to(device)\n",
    "    pred_test = torch.tensor([]).to(device)\n",
    "    pred_proba_test = torch.tensor([]).to(device)\n",
    "    for X,y,_ in train_loader:\n",
    "        X,y = X.to(device),y.to(device)\n",
    "        actual_train = torch.cat((actual_train,y),0)\n",
    "        pred = torch.squeeze(model(torch.unsqueeze(X,1).float()))\n",
    "        soft_max = F.softmax(pred,dim=1)\n",
    "        pred_train = torch.cat((pred_train,torch.max(soft_max, dim=1)   [1]),0)\n",
    "    for X,y,_ in valid_loader:\n",
    "        X,y = X.to(device),y.to(device)\n",
    "        actual_valid = torch.cat((actual_valid,y),0)\n",
    "        pred = torch.squeeze(model(torch.unsqueeze(X,1).float()))\n",
    "        soft_max = F.softmax(pred,dim=1)\n",
    "        pred_valid = torch.cat((pred_valid,torch.max(soft_max, dim=1)   [1]),0)\n",
    "    for X,y,_ in test_loader:\n",
    "        X,y = X.to(device),y.to(device)\n",
    "        actual_test = torch.cat((actual_test,y),0)\n",
    "        pred = torch.squeeze(model(torch.unsqueeze(X,1).float()))\n",
    "        soft_max = F.softmax(pred,dim=1)\n",
    "        pred_test = torch.cat((pred_test,torch.max(soft_max, dim=1)   [1]),0)\n",
    "\n",
    "    ba_train = balanced_accuracy_score(actual_train.detach().cpu().numpy(),pred_train.detach().cpu().numpy())\n",
    "    ba_valid = balanced_accuracy_score(actual_valid.detach().cpu().numpy(),pred_valid.detach().cpu().numpy())\n",
    "    ba_test = balanced_accuracy_score(actual_test.detach().cpu().numpy(),pred_test.detach().cpu().numpy())\n",
    "\n",
    "    print(f'{i+1}: ba_train = {ba_train}, ba_valid = {ba_valid}, ba_test = {ba_test}')"
   ]
  },
  {
   "cell_type": "code",
   "execution_count": null,
   "metadata": {},
   "outputs": [],
   "source": []
  }
 ],
 "metadata": {
  "kernelspec": {
   "display_name": "Python 3",
   "language": "python",
   "name": "python3"
  },
  "language_info": {
   "codemirror_mode": {
    "name": "ipython",
    "version": 3
   },
   "file_extension": ".py",
   "mimetype": "text/x-python",
   "name": "python",
   "nbconvert_exporter": "python",
   "pygments_lexer": "ipython3",
   "version": "3.9.0"
  },
  "orig_nbformat": 4
 },
 "nbformat": 4,
 "nbformat_minor": 2
}
