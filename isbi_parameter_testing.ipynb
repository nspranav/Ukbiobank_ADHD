{
 "cells": [
  {
   "cell_type": "code",
   "execution_count": 1,
   "metadata": {},
   "outputs": [],
   "source": [
    "import pandas as pd\n",
    "import numpy as np"
   ]
  },
  {
   "cell_type": "markdown",
   "metadata": {},
   "source": [
    "# Main job [1489808](gpu4_1489808.txt)"
   ]
  },
  {
   "cell_type": "markdown",
   "metadata": {},
   "source": [
    "fold1 : epoch 41\n",
    "fold 2 : 28\n",
    "fold 3 : 41\n",
    "fold 4 : 36\n",
    "fold 5 : 41"
   ]
  },
  {
   "cell_type": "code",
   "execution_count": 1,
   "metadata": {},
   "outputs": [],
   "source": [
    "\n",
    "train_acc = [68.18,66.42,68.06,68.03,68.31]\n",
    "val_acc = [64.72, 63.43,64.71,64.84, 64.44]\n",
    "test_acc = [69.89, 69.21, 71.16, 70.20, 71.62] "
   ]
  },
  {
   "cell_type": "code",
   "execution_count": 3,
   "metadata": {},
   "outputs": [
    {
     "name": "stdout",
     "output_type": "stream",
     "text": [
      "67.80000000000001 0.6970509307073629\n",
      "64.42800000000001 0.5158837078257074\n",
      "70.416 0.8695884083864066\n"
     ]
    }
   ],
   "source": [
    "print(np.mean(train_acc),np.std(train_acc))\n",
    "print(np.mean(val_acc),np.std(val_acc))\n",
    "print(np.mean(test_acc),np.std(test_acc))"
   ]
  },
  {
   "cell_type": "markdown",
   "metadata": {},
   "source": [
    "# 1FC free"
   ]
  },
  {
   "cell_type": "markdown",
   "metadata": {},
   "source": [
    "fold 1 : 41\n",
    "fold 2 : 45\n",
    "fold 3 : 48\n",
    "fold 4 : 43\n",
    "fold 5 : 15"
   ]
  },
  {
   "cell_type": "code",
   "execution_count": 2,
   "metadata": {},
   "outputs": [],
   "source": [
    "train_acc = [71.58, 68.17, 69.87, 67.86, 71.21]\n",
    "val_acc =   [75.39, 68.87, 70.88, 69.73, 69.30]\n",
    "test_acc =  [70.79, 66.06, 65.58, 65.02, 66.32] "
   ]
  },
  {
   "cell_type": "code",
   "execution_count": 3,
   "metadata": {},
   "outputs": [
    {
     "name": "stdout",
     "output_type": "stream",
     "text": [
      "69.738 1.5207024692555722\n",
      "70.834 2.3743849729982704\n",
      "66.75399999999999 2.0661229392269993\n"
     ]
    }
   ],
   "source": [
    "print(np.mean(train_acc),np.std(train_acc))\n",
    "print(np.mean(val_acc),np.std(val_acc))\n",
    "print(np.mean(test_acc),np.std(test_acc))"
   ]
  },
  {
   "cell_type": "markdown",
   "metadata": {},
   "source": [
    "# 1FC, 5th conv layer free "
   ]
  },
  {
   "cell_type": "markdown",
   "metadata": {},
   "source": [
    "fold 1 : 4\n",
    "fold 2 : 42"
   ]
  },
  {
   "cell_type": "code",
   "execution_count": 6,
   "metadata": {},
   "outputs": [],
   "source": [
    "train_acc = [69.46, 70.34, 69.52]\n",
    "val_acc =   [63.86, 69.08, 70.39]\n",
    "test_acc =  [70.48, 69.20, 70.95]"
   ]
  },
  {
   "cell_type": "code",
   "execution_count": 7,
   "metadata": {},
   "outputs": [
    {
     "name": "stdout",
     "output_type": "stream",
     "text": [
      "69.77333333333333 0.40144184579532666\n",
      "67.77666666666666 2.8206658000471374\n",
      "70.21 0.7395043385042895\n"
     ]
    }
   ],
   "source": [
    "print(np.mean(train_acc),np.std(train_acc))\n",
    "print(np.mean(val_acc),np.std(val_acc))\n",
    "print(np.mean(test_acc),np.std(test_acc))"
   ]
  },
  {
   "cell_type": "markdown",
   "metadata": {},
   "source": [
    "# 1FC, 5th,4th conv layer"
   ]
  },
  {
   "cell_type": "markdown",
   "metadata": {},
   "source": [
    "fold 1 : 1\n",
    "fold 2 : 45\n",
    "fold 3 : 41\n",
    "fold 4 : 49\n",
    "fold 5 : 42"
   ]
  },
  {
   "cell_type": "code",
   "execution_count": 1,
   "metadata": {},
   "outputs": [],
   "source": [
    "train_acc = [69.43, 73.68, 72.83, 73.63, 73.11]\n",
    "val_acc =   [62.84, 71.27, 70.03, 72.72, 72.30]\n",
    "test_acc =  [67.27, 75.28, 74.02, 77.14, 75.30]"
   ]
  },
  {
   "cell_type": "code",
   "execution_count": 3,
   "metadata": {},
   "outputs": [
    {
     "name": "stdout",
     "output_type": "stream",
     "text": [
      "72.536 1.5854791073993981\n",
      "69.83200000000001 3.617365892469268\n",
      "73.80199999999999 3.4142431079230446\n"
     ]
    }
   ],
   "source": [
    "print(np.mean(train_acc),np.std(train_acc))\n",
    "print(np.mean(val_acc),np.std(val_acc))\n",
    "print(np.mean(test_acc),np.std(test_acc))"
   ]
  },
  {
   "cell_type": "markdown",
   "metadata": {},
   "source": [
    "# 1 FC, 5th, 4th, 3rd conv layers"
   ]
  },
  {
   "cell_type": "markdown",
   "metadata": {},
   "source": [
    "fold 1: 4\n",
    "fold 2: 45\n",
    "fold 3: 37\n",
    "fold 4: 49\n",
    "fold 5: 31"
   ]
  },
  {
   "cell_type": "code",
   "execution_count": 1,
   "metadata": {},
   "outputs": [],
   "source": [
    "train_acc = [69.87,75.09,72.27,75.65,72.74]\n",
    "val_acc =   [64.85,71.02,70.47,72.15,72.53]\n",
    "test_acc =  [72.64,77.85,75.75,78.13,76.40]"
   ]
  },
  {
   "cell_type": "code",
   "execution_count": 4,
   "metadata": {},
   "outputs": [
    {
     "name": "stdout",
     "output_type": "stream",
     "text": [
      "73.124 2.083800374316121\n",
      "70.204 2.7784571258164155\n",
      "76.154 1.9673799836330532\n"
     ]
    }
   ],
   "source": [
    "print(np.mean(train_acc),np.std(train_acc))\n",
    "print(np.mean(val_acc),np.std(val_acc))\n",
    "print(np.mean(test_acc),np.std(test_acc))"
   ]
  },
  {
   "cell_type": "markdown",
   "metadata": {},
   "source": [
    "# 1 FC, 5th, 4th, 3rd conv, 2nd layers"
   ]
  },
  {
   "cell_type": "markdown",
   "metadata": {},
   "source": [
    "fold 1: 3\n",
    "fold 2: 30\n",
    "fold 3: 29\n",
    "FOLD 4: \n",
    "FOLD 5: 34"
   ]
  },
  {
   "cell_type": "code",
   "execution_count": 5,
   "metadata": {},
   "outputs": [],
   "source": [
    "train_acc = [69.66,72.30,72.16,72.83,72.57]\n",
    "val_acc =   [64.72,70.13,70.16,70.43,71.53]\n",
    "test_acc =  [73.06,75.30,75.54,75.10,76.78]"
   ]
  },
  {
   "cell_type": "code",
   "execution_count": 6,
   "metadata": {},
   "outputs": [
    {
     "name": "stdout",
     "output_type": "stream",
     "text": [
      "71.904 1.1453313930911\n",
      "69.394 2.392091971476014\n",
      "75.15599999999999 1.2001599893347552\n"
     ]
    }
   ],
   "source": [
    "print(np.mean(train_acc),np.std(train_acc))\n",
    "print(np.mean(val_acc),np.std(val_acc))\n",
    "print(np.mean(test_acc),np.std(test_acc))"
   ]
  },
  {
   "cell_type": "markdown",
   "metadata": {},
   "source": [
    "# Job 1780660 extended training of best \n",
    "\n",
    "# fold_1: 1, fold_2: 3, fold_3:16, fold_4:18, fold_5:22"
   ]
  },
  {
   "cell_type": "code",
   "execution_count": 1,
   "metadata": {},
   "outputs": [],
   "source": [
    "train_acc = [79.1,79.9,80.3,80.7,80.8]\n",
    "val_acc =   [76.5,73.8,80.1,80.4,80.4]\n",
    "test_acc =  [79.3,79.9,81.5,81.2,82.1]"
   ]
  },
  {
   "cell_type": "code",
   "execution_count": 4,
   "metadata": {},
   "outputs": [
    {
     "name": "stdout",
     "output_type": "stream",
     "text": [
      "80.16 0.6183849933496135\n",
      "78.24000000000001 2.6657831869827695\n",
      "80.8 1.039230484541325\n"
     ]
    }
   ],
   "source": [
    "print(np.mean(train_acc),np.std(train_acc))\n",
    "print(np.mean(val_acc),np.std(val_acc))\n",
    "print(np.mean(test_acc),np.std(test_acc))"
   ]
  },
  {
   "cell_type": "markdown",
   "metadata": {},
   "source": [
    "# Job 1818979; freezing 3 conv layer and 1 fc layer\n",
    "selection based on Balanced accuracies \n",
    "{fold1:epoch_37,fold2:epoch_38,fold3:epoch_33,fold4: epoch_27,fold5:epoch_38 }"
   ]
  },
  {
   "cell_type": "code",
   "execution_count": 3,
   "metadata": {},
   "outputs": [],
   "source": [
    "train_acc = [76.41,77.23,76.95,75.10,77.67]\n",
    "val_acc =   [74.88,75.02,73.95,74.50,75.29]\n",
    "test_acc =  [78.12,77.18,74.85,73.67,77.84]"
   ]
  },
  {
   "cell_type": "code",
   "execution_count": 4,
   "metadata": {},
   "outputs": [
    {
     "name": "stdout",
     "output_type": "stream",
     "text": [
      "76.672 0.8859435647940594\n",
      "74.728 0.4650763378199323\n",
      "76.30999999999999 1.7371816255072494\n"
     ]
    }
   ],
   "source": [
    "print(np.mean(train_acc),np.std(train_acc))\n",
    "print(np.mean(val_acc),np.std(val_acc))\n",
    "print(np.mean(test_acc),np.std(test_acc))"
   ]
  },
  {
   "attachments": {},
   "cell_type": "markdown",
   "metadata": {},
   "source": [
    "## Job 3211543; freezing 3 conv layer and 1 fc layer"
   ]
  },
  {
   "attachments": {},
   "cell_type": "markdown",
   "metadata": {},
   "source": [
    "epochs: 34; 34 ;  27; ; 19"
   ]
  },
  {
   "cell_type": "code",
   "execution_count": 6,
   "metadata": {},
   "outputs": [],
   "source": [
    "train_acc = [83.78, 84.04, 79.45, 81.38, 78.09]\n",
    "val_acc =   [75.16, 74.84, 76.25, 75.01, 75.35]\n",
    "test_acc =  [88.35, 88.70, 86.64, 86.26, 85.19]"
   ]
  },
  {
   "cell_type": "code",
   "execution_count": 7,
   "metadata": {},
   "outputs": [
    {
     "name": "stdout",
     "output_type": "stream",
     "text": [
      "81.348 2.340063247008508\n",
      "75.322 0.49353419334428983\n",
      "87.02799999999999 1.3161975535610142\n"
     ]
    }
   ],
   "source": [
    "print(np.mean(train_acc),np.std(train_acc))\n",
    "print(np.mean(val_acc),np.std(val_acc))\n",
    "print(np.mean(test_acc),np.std(test_acc))"
   ]
  },
  {
   "cell_type": "code",
   "execution_count": 4,
   "metadata": {},
   "outputs": [],
   "source": [
    "sesitivity_train = [72.72, 72.72, 65.01, 68.83,62.96]\n",
    "sensitivity_valid = [76.55, 68.92, 78.24, 70.05, 67.23]\n",
    "sensitivity_test = [91.9, 88.23, 94.11, 85.02,82.88]\n",
    "specificity_train = [94.8, 95.35, 93.88, 93.92, 93.20]\n",
    "specificity_valid = [73.76, 80.76, 74.24, 79.96, 83.46]\n",
    "specificity_test = [84.7, 89.16, 79.16, 87.50, 87.5]"
   ]
  },
  {
   "cell_type": "code",
   "execution_count": 5,
   "metadata": {},
   "outputs": [
    {
     "name": "stdout",
     "output_type": "stream",
     "text": [
      "68.448 3.9644389262542545\n",
      "72.19800000000001 4.370031578833267\n",
      "88.428 4.165906383969762\n",
      "94.22999999999999 0.7561481336351998\n",
      "78.43599999999999 3.8061928485036054\n",
      "85.604 3.5263896551572405\n"
     ]
    }
   ],
   "source": [
    "print(np.mean(sesitivity_train),np.std(sesitivity_train))\n",
    "print(np.mean(sensitivity_valid),np.std(sensitivity_valid))\n",
    "print(np.mean(sensitivity_test),np.std(sensitivity_test))\n",
    "print(np.mean(specificity_train),np.std(specificity_train))\n",
    "print(np.mean(specificity_valid),np.std(specificity_valid))\n",
    "print(np.mean(specificity_test),np.std(specificity_test))"
   ]
  },
  {
   "cell_type": "code",
   "execution_count": null,
   "metadata": {},
   "outputs": [],
   "source": []
  }
 ],
 "metadata": {
  "kernelspec": {
   "display_name": "latest",
   "language": "python",
   "name": "python3"
  },
  "language_info": {
   "codemirror_mode": {
    "name": "ipython",
    "version": 3
   },
   "file_extension": ".py",
   "mimetype": "text/x-python",
   "name": "python",
   "nbconvert_exporter": "python",
   "pygments_lexer": "ipython3",
   "version": "3.9.16"
  },
  "orig_nbformat": 4,
  "vscode": {
   "interpreter": {
    "hash": "b101a7ee825fcd2f5a7c1becefa556e413ac576d4847d7d0423e65831f79e9ac"
   }
  }
 },
 "nbformat": 4,
 "nbformat_minor": 2
}
