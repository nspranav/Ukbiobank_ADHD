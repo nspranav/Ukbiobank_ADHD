{
 "cells": [
  {
   "cell_type": "code",
   "execution_count": 1,
   "metadata": {},
   "outputs": [],
   "source": []
  },
  {
   "cell_type": "code",
   "execution_count": 2,
   "metadata": {},
   "outputs": [],
   "source": [
    "import pickle\n",
    "import pandas as pd\n",
    "import numpy as np\n",
    "import os"
   ]
  },
  {
   "cell_type": "code",
   "execution_count": 3,
   "metadata": {},
   "outputs": [
    {
     "name": "stdout",
     "output_type": "stream",
     "text": [
      "chr9.comp shape is (36638, 5112)\n",
      "chr12.comp shape is (36638, 5334)\n",
      "chr13.comp shape is (36638, 4206)\n",
      "chr14.comp shape is (36638, 3908)\n",
      "chr15.comp shape is (36638, 3816)\n",
      "chr16.comp shape is (36638, 4180)\n",
      "chr17.comp shape is (36638, 3985)\n",
      "chr18.comp shape is (36638, 3841)\n",
      "chr19.comp shape is (36638, 3157)\n",
      "chr20.comp shape is (36638, 3439)\n",
      "chr21.comp shape is (36638, 2059)\n",
      "chr22.comp shape is (36638, 2095)\n",
      "chr1.comp shape is (36638, 7967)\n",
      "chr2.comp shape is (36638, 7819)\n",
      "chr3.comp shape is (36638, 6913)\n",
      "chr4.comp shape is (36638, 6596)\n",
      "chr5.comp shape is (36638, 6446)\n",
      "chr6.comp shape is (36638, 6071)\n",
      "chr7.comp shape is (36638, 5924)\n",
      "chr8.comp shape is (36638, 5605)\n",
      "chr10.comp shape is (36638, 5511)\n",
      "chr11.comp shape is (36638, 5310)\n"
     ]
    }
   ],
   "source": [
    "num_comps = 0\n",
    "entries = os.listdir(path + 'PCA_transform')\n",
    "for e,v in enumerate(entries):\n",
    "    with open(path+'PCA_transform/'+v,'rb') as f:\n",
    "        chr = pickle.load(f)\n",
    "        print(f'{v} shape is {chr.shape}')\n",
    "        num_comps += chr.shape[1]"
   ]
  },
  {
   "cell_type": "code",
   "execution_count": 4,
   "metadata": {},
   "outputs": [
    {
     "data": {
      "text/plain": [
       "109294"
      ]
     },
     "execution_count": 4,
     "metadata": {},
     "output_type": "execute_result"
    }
   ],
   "source": [
    "num_comps"
   ]
  },
  {
   "cell_type": "code",
   "execution_count": null,
   "metadata": {},
   "outputs": [],
   "source": []
  }
 ],
 "metadata": {
  "kernelspec": {
   "display_name": "Python 3.8.3 64-bit ('base': conda)",
   "language": "python",
   "name": "python383jvsc74a57bd008b29a5f0dba0b32ab30681a28b47493a060f7eaa0cd11efd8c6d1fbe7377746"
  },
  "language_info": {
   "codemirror_mode": {
    "name": "ipython",
    "version": 3
   },
   "file_extension": ".py",
   "mimetype": "text/x-python",
   "name": "python",
   "nbconvert_exporter": "python",
   "pygments_lexer": "ipython3",
   "version": "3.8.3"
  },
  "metadata": {
   "interpreter": {
    "hash": "08b29a5f0dba0b32ab30681a28b47493a060f7eaa0cd11efd8c6d1fbe7377746"
   }
  }
 },
 "nbformat": 4,
 "nbformat_minor": 4
}
