{
 "cells": [
  {
   "cell_type": "code",
   "execution_count": 2,
   "metadata": {},
   "outputs": [],
   "source": [
    "import numpy as np\n",
    "import pandas as pd\n",
    "import os\n",
    "import json\n",
    "from captum.attr import IntegratedGradients,Occlusion\n",
    "from nilearn.image import load_img,resample_img \n",
    "\n",
    "import torch\n",
    "from torch import nn \n",
    "from torch.utils.data import DataLoader\n",
    "from torch.utils.data.sampler import SubsetRandomSampler\n",
    "\n",
    "from custom_dataset import CustomDataset\n",
    "from network import Network\n",
    "from utils import *\n",
    "import torch.nn.functional as F"
   ]
  },
  {
   "cell_type": "code",
   "execution_count": 3,
   "metadata": {},
   "outputs": [],
   "source": [
    "from sklearn.decomposition import PCA\n",
    "from sklearn.model_selection import StratifiedShuffleSplit\n",
    "from matplotlib import pyplot as plt"
   ]
  },
  {
   "cell_type": "code",
   "execution_count": 4,
   "metadata": {},
   "outputs": [],
   "source": [
    "sss = StratifiedShuffleSplit(n_splits=1, test_size=0.1, random_state=26)\n",
    "\n",
    "torch.manual_seed(52)\n",
    "np.random.seed(52)\n",
    "# number of subprocesses to use for data loading\n",
    "num_workers = 1\n",
    "# how many samples per batch to load\n",
    "batch_size = 1\n",
    "\n",
    "data = CustomDataset(train= True,valid=False)\n",
    "\n",
    "train_idx, valid_idx = next(sss.split(np.zeros_like(data.vars),\n",
    "    data.vars.new_score.values))\n",
    "\n",
    "train_sampler = SubsetRandomSampler(train_idx)\n",
    "valid_sampler = SubsetRandomSampler(valid_idx)\n",
    "\n",
    "train_loader = DataLoader(data,batch_size=batch_size, \n",
    "                            sampler= train_sampler, num_workers=num_workers)\n",
    "valid_loader = DataLoader(data,batch_size=batch_size, \n",
    "                            sampler= valid_sampler, num_workers=num_workers)"
   ]
  },
  {
   "cell_type": "code",
   "execution_count": 5,
   "metadata": {},
   "outputs": [],
   "source": [
    "X_all = []\n",
    "y_all = []\n",
    "for X,y,_ in train_loader:\n",
    "    X = X.numpy()\n",
    "    X = X.reshape((X.shape[0],-1))\n",
    "    X_all.append(X)\n",
    "    y_all.append(y.item())\n",
    "    "
   ]
  },
  {
   "cell_type": "code",
   "execution_count": 6,
   "metadata": {},
   "outputs": [],
   "source": [
    "X = np.stack(X_all,axis=0)"
   ]
  },
  {
   "cell_type": "code",
   "execution_count": 7,
   "metadata": {},
   "outputs": [],
   "source": [
    "X = X.squeeze()"
   ]
  },
  {
   "cell_type": "code",
   "execution_count": 8,
   "metadata": {},
   "outputs": [
    {
     "data": {
      "text/plain": [
       "(4423, 2122945)"
      ]
     },
     "execution_count": 8,
     "metadata": {},
     "output_type": "execute_result"
    }
   ],
   "source": [
    "X.shape"
   ]
  },
  {
   "cell_type": "code",
   "execution_count": 9,
   "metadata": {},
   "outputs": [],
   "source": [
    "mean_img = np.mean(X,axis=0)"
   ]
  },
  {
   "cell_type": "code",
   "execution_count": 10,
   "metadata": {},
   "outputs": [],
   "source": [
    "mean_img = mean_img.reshape((-1))"
   ]
  },
  {
   "cell_type": "code",
   "execution_count": 11,
   "metadata": {},
   "outputs": [
    {
     "data": {
      "text/plain": [
       "(2122945,)"
      ]
     },
     "execution_count": 11,
     "metadata": {},
     "output_type": "execute_result"
    }
   ],
   "source": [
    "mean_img.shape"
   ]
  },
  {
   "cell_type": "code",
   "execution_count": 12,
   "metadata": {},
   "outputs": [],
   "source": [
    "X_filtered = X[:,mean_img > 0.2]"
   ]
  },
  {
   "cell_type": "code",
   "execution_count": 13,
   "metadata": {},
   "outputs": [
    {
     "data": {
      "text/plain": [
       "(4423, 472035)"
      ]
     },
     "execution_count": 13,
     "metadata": {},
     "output_type": "execute_result"
    }
   ],
   "source": [
    "X_filtered.shape"
   ]
  },
  {
   "cell_type": "code",
   "execution_count": 14,
   "metadata": {},
   "outputs": [],
   "source": [
    "transformer = PCA(n_components=0.8,svd_solver='full')"
   ]
  },
  {
   "cell_type": "code",
   "execution_count": 15,
   "metadata": {},
   "outputs": [
    {
     "data": {
      "text/plain": [
       "PCA(n_components=0.8, svd_solver='full')"
      ]
     },
     "execution_count": 15,
     "metadata": {},
     "output_type": "execute_result"
    }
   ],
   "source": [
    "transformer.fit(X_filtered)"
   ]
  },
  {
   "cell_type": "code",
   "execution_count": 16,
   "metadata": {},
   "outputs": [
    {
     "data": {
      "text/plain": [
       "array([0.08756388, 0.07423471, 0.03181009, 0.02291649, 0.01879165,\n",
       "       0.01685498, 0.01230594, 0.01047203, 0.00952264, 0.00867384,\n",
       "       0.007925  , 0.00746455, 0.00674735, 0.00642179, 0.00614457,\n",
       "       0.00600922, 0.00557552, 0.00522051, 0.00513167, 0.0049567 ,\n",
       "       0.00467507, 0.00424356, 0.00416925, 0.00412286, 0.00402927,\n",
       "       0.00392522, 0.00376958, 0.00371709, 0.00363839, 0.00353453,\n",
       "       0.00346891, 0.00329736, 0.00326505, 0.00317512, 0.00312213,\n",
       "       0.00301959, 0.00293078, 0.00276371, 0.00274893, 0.00265883,\n",
       "       0.00263223, 0.0026063 , 0.00255841, 0.00251184, 0.00244838,\n",
       "       0.002397  , 0.00236   , 0.0022985 , 0.00222546, 0.00218826,\n",
       "       0.0021359 , 0.00206965, 0.00204199, 0.00199743, 0.00198658,\n",
       "       0.00195325, 0.00190124, 0.00188489, 0.00184289, 0.00182304,\n",
       "       0.00178275, 0.00175911, 0.00172808, 0.00168618, 0.0016461 ,\n",
       "       0.00164022, 0.00161348, 0.00160244, 0.00157365, 0.00152726,\n",
       "       0.00152017, 0.00151656, 0.00148623, 0.00146348, 0.00144492,\n",
       "       0.00141283, 0.00140883, 0.00139195, 0.00136815, 0.00136331,\n",
       "       0.00134768, 0.0013407 , 0.00133183, 0.0013198 , 0.00131037,\n",
       "       0.00129588, 0.00128375, 0.00125824, 0.00125528, 0.00124858,\n",
       "       0.00123967, 0.00121976, 0.00121342, 0.00120831, 0.00120048,\n",
       "       0.00118426, 0.0011717 , 0.00115588, 0.00114612, 0.00113585,\n",
       "       0.00113082, 0.00112024, 0.00111308, 0.00109965, 0.00109046,\n",
       "       0.00108573, 0.00107734, 0.0010698 , 0.00105477, 0.00104803,\n",
       "       0.00104641, 0.00104006, 0.00103099, 0.00101973, 0.00101826,\n",
       "       0.00100276, 0.00099245, 0.00098314, 0.00098078, 0.00097593,\n",
       "       0.00097314, 0.00096267, 0.00095707, 0.00095286, 0.00094545,\n",
       "       0.00093337, 0.0009313 , 0.00092952, 0.00092031, 0.00091872,\n",
       "       0.00091352, 0.00090761, 0.00089705, 0.00089561, 0.00089034,\n",
       "       0.00088621, 0.00088099, 0.00087095, 0.0008688 , 0.00086581,\n",
       "       0.00086464, 0.00085932, 0.00085139, 0.00084791, 0.00084424,\n",
       "       0.0008382 , 0.00083531, 0.00082939, 0.00082476, 0.00082229,\n",
       "       0.00081537, 0.0008139 , 0.00080614, 0.00080454, 0.00080211,\n",
       "       0.0007981 , 0.00079637, 0.00078996, 0.00078367, 0.00077705,\n",
       "       0.0007738 , 0.00077243, 0.0007701 , 0.00076692, 0.00075916,\n",
       "       0.00075725, 0.00075488, 0.00075286, 0.00074966, 0.00074616,\n",
       "       0.00074072, 0.00073805, 0.00073798, 0.00073102, 0.00072812,\n",
       "       0.00072673, 0.00071694, 0.0007156 , 0.00071408, 0.00070833,\n",
       "       0.00070544, 0.00070351, 0.00069904, 0.0006955 , 0.00069458,\n",
       "       0.0006891 , 0.0006873 , 0.00068546, 0.0006836 , 0.00068111,\n",
       "       0.00067883, 0.00067805, 0.00067412, 0.00067106, 0.00066499,\n",
       "       0.00066411, 0.00066236, 0.00066133, 0.00065724, 0.00065437,\n",
       "       0.000652  , 0.00064958, 0.00064654, 0.00064459, 0.00064268,\n",
       "       0.00063733, 0.00063709, 0.00063481, 0.00063283, 0.00063062,\n",
       "       0.00062709, 0.00062584, 0.00062526, 0.00062368, 0.00062069,\n",
       "       0.00061911, 0.00061661, 0.00061437, 0.00061329, 0.00060815,\n",
       "       0.000606  , 0.00060204, 0.00060004, 0.0005989 , 0.00059626,\n",
       "       0.00059448, 0.00059165, 0.00058827, 0.00058697, 0.00058668,\n",
       "       0.00058501, 0.00058057, 0.00057875, 0.00057791, 0.00057745,\n",
       "       0.00057416, 0.00057361, 0.00057227, 0.00057028, 0.00056736,\n",
       "       0.00056611, 0.0005652 , 0.00056315, 0.00056034, 0.00056026,\n",
       "       0.00055938, 0.0005571 , 0.0005543 , 0.00055226, 0.00055088,\n",
       "       0.00054831, 0.00054723, 0.00054639, 0.00054481, 0.0005434 ,\n",
       "       0.00054089, 0.00053858, 0.00053629, 0.000535  , 0.00053254,\n",
       "       0.00052973, 0.00052862, 0.00052762, 0.00052694, 0.00052489,\n",
       "       0.00052356, 0.00052285, 0.00052051, 0.00051869, 0.00051772,\n",
       "       0.00051564, 0.00051409, 0.00051325, 0.0005104 , 0.00050898,\n",
       "       0.00050738, 0.00050658, 0.00050564, 0.00050536, 0.00050285,\n",
       "       0.00049935, 0.00049857, 0.00049723, 0.0004953 , 0.00049312,\n",
       "       0.00049293, 0.00049082, 0.0004901 , 0.00048836, 0.00048766,\n",
       "       0.00048672, 0.00048553, 0.00048327, 0.0004824 , 0.00048155,\n",
       "       0.00048027, 0.00047896, 0.00047746, 0.00047617, 0.00047393,\n",
       "       0.00047304, 0.00047208, 0.00047106, 0.00046972, 0.00046826,\n",
       "       0.00046671, 0.00046618, 0.00046383, 0.00046311, 0.00046147,\n",
       "       0.00046061, 0.00045977, 0.00045759, 0.00045529, 0.00045454,\n",
       "       0.00045264, 0.00045226, 0.00045157, 0.00044965, 0.00044892,\n",
       "       0.00044865, 0.00044781, 0.00044702, 0.00044455, 0.00044291,\n",
       "       0.0004426 , 0.00044217, 0.00044184, 0.00044032, 0.000438  ,\n",
       "       0.00043673, 0.0004356 , 0.00043417, 0.00043397, 0.00043263,\n",
       "       0.00043147, 0.00043103, 0.00042984, 0.00042818, 0.00042799,\n",
       "       0.0004261 , 0.00042573, 0.00042385, 0.00042325, 0.00042246,\n",
       "       0.00042209, 0.00042049, 0.00041918, 0.00041852, 0.00041789,\n",
       "       0.00041604, 0.00041504, 0.00041454, 0.00041339, 0.00041206,\n",
       "       0.00041124, 0.00040998, 0.00040926, 0.00040871, 0.00040682,\n",
       "       0.00040604, 0.00040523, 0.0004043 , 0.00040392, 0.00040263,\n",
       "       0.00040197, 0.00040075, 0.00040006, 0.00039985, 0.00039824,\n",
       "       0.00039733, 0.00039603, 0.00039465, 0.00039404, 0.00039352,\n",
       "       0.00039275, 0.00039187, 0.00039136, 0.00039059, 0.0003897 ,\n",
       "       0.00038941, 0.00038681, 0.00038661, 0.00038612, 0.00038562,\n",
       "       0.00038413, 0.00038365, 0.00038314, 0.00038161, 0.00038066,\n",
       "       0.00038035, 0.00037943, 0.0003789 , 0.00037739, 0.00037682,\n",
       "       0.00037587, 0.00037462, 0.00037409, 0.0003731 , 0.00037186,\n",
       "       0.00037114, 0.00037068, 0.00036983, 0.00036898, 0.0003689 ,\n",
       "       0.0003681 , 0.00036719, 0.00036619, 0.00036497, 0.00036454,\n",
       "       0.00036347, 0.00036202, 0.00036169, 0.00036088, 0.00036023,\n",
       "       0.0003587 , 0.00035835, 0.00035773, 0.00035703, 0.00035665,\n",
       "       0.00035625, 0.0003555 , 0.00035538, 0.00035362, 0.00035331,\n",
       "       0.00035249, 0.00035118, 0.00035065, 0.00035012, 0.00034994,\n",
       "       0.00034844, 0.00034791, 0.00034717, 0.00034657, 0.00034535,\n",
       "       0.00034508, 0.00034461, 0.00034421, 0.00034281, 0.00034238,\n",
       "       0.00034219, 0.00034199, 0.00034102, 0.00033925, 0.00033827,\n",
       "       0.00033784, 0.00033722, 0.00033706, 0.00033634, 0.00033594,\n",
       "       0.00033502, 0.0003343 , 0.00033404, 0.0003336 , 0.00033241,\n",
       "       0.00033144, 0.00033094, 0.00033016, 0.00032956, 0.00032904,\n",
       "       0.00032843, 0.00032809, 0.00032803, 0.00032751, 0.00032646,\n",
       "       0.00032599, 0.00032532, 0.00032443, 0.00032356, 0.00032324,\n",
       "       0.00032233, 0.00032201, 0.00032135, 0.00032057, 0.00032031,\n",
       "       0.00031971, 0.00031909, 0.00031875, 0.00031763, 0.00031697,\n",
       "       0.00031657, 0.00031594, 0.00031558, 0.00031508, 0.0003146 ,\n",
       "       0.0003139 , 0.00031339, 0.00031277, 0.00031256, 0.00031196,\n",
       "       0.00031153, 0.00031065, 0.00031026, 0.00030987, 0.00030922,\n",
       "       0.00030819, 0.00030764, 0.00030698, 0.0003066 , 0.00030591,\n",
       "       0.00030532, 0.00030508, 0.00030439, 0.00030422, 0.00030385,\n",
       "       0.00030307, 0.00030296, 0.00030283, 0.0003017 , 0.00030118,\n",
       "       0.00030093, 0.00029988, 0.0002989 , 0.00029875, 0.00029831,\n",
       "       0.00029821, 0.00029767, 0.00029669, 0.00029585, 0.00029541,\n",
       "       0.00029502, 0.00029431, 0.00029405, 0.00029344, 0.00029323,\n",
       "       0.00029295, 0.00029253, 0.00029207, 0.00029169, 0.00029059,\n",
       "       0.00029007, 0.0002899 , 0.00028949, 0.00028931, 0.00028866,\n",
       "       0.00028789, 0.00028729, 0.00028693, 0.00028594, 0.00028532,\n",
       "       0.00028432, 0.00028387, 0.00028361, 0.00028312, 0.0002829 ,\n",
       "       0.00028189, 0.00028154, 0.00028119, 0.00028091, 0.00028036,\n",
       "       0.00028017, 0.00027971, 0.00027955, 0.00027848, 0.00027832,\n",
       "       0.00027778, 0.00027721, 0.00027665, 0.00027617, 0.00027611,\n",
       "       0.0002756 , 0.00027502, 0.00027447, 0.00027399, 0.00027366,\n",
       "       0.00027264, 0.00027226, 0.00027204, 0.00027165, 0.00027077,\n",
       "       0.0002704 , 0.0002698 , 0.00026936, 0.00026913, 0.00026855,\n",
       "       0.00026843, 0.00026826, 0.00026784, 0.00026759, 0.00026749,\n",
       "       0.00026645, 0.00026631, 0.00026609, 0.00026537, 0.00026514,\n",
       "       0.00026447, 0.00026348, 0.00026325, 0.00026306, 0.00026251,\n",
       "       0.00026217, 0.00026195, 0.00026157, 0.00026139, 0.00026087,\n",
       "       0.00026008, 0.00025971, 0.00025949, 0.00025869, 0.00025835,\n",
       "       0.00025816, 0.00025744, 0.00025724, 0.00025667, 0.00025645,\n",
       "       0.00025626, 0.00025588, 0.00025557, 0.00025483, 0.0002544 ,\n",
       "       0.00025412, 0.0002536 , 0.00025338, 0.00025274, 0.00025245,\n",
       "       0.00025206, 0.00025132, 0.00025102, 0.00025087, 0.00025064,\n",
       "       0.00024984, 0.00024968, 0.00024921, 0.00024896, 0.00024885,\n",
       "       0.00024853, 0.00024806, 0.0002472 , 0.00024696, 0.00024662,\n",
       "       0.00024646, 0.00024642, 0.00024613, 0.00024536, 0.00024463,\n",
       "       0.00024434, 0.00024429, 0.0002441 , 0.0002438 , 0.00024347,\n",
       "       0.00024288, 0.00024263, 0.00024233, 0.00024189, 0.0002413 ,\n",
       "       0.00024119, 0.00024015, 0.00024005, 0.00023999, 0.00023951,\n",
       "       0.00023914, 0.00023882, 0.00023819, 0.0002381 , 0.0002378 ,\n",
       "       0.00023734, 0.00023716, 0.00023713, 0.00023658, 0.00023599,\n",
       "       0.00023583, 0.00023512, 0.00023496, 0.00023461, 0.00023419,\n",
       "       0.00023387, 0.00023345, 0.0002328 , 0.00023238, 0.00023227,\n",
       "       0.00023213, 0.00023186, 0.00023156, 0.00023112, 0.00023054,\n",
       "       0.00023026, 0.00022964, 0.00022941, 0.00022919, 0.00022868,\n",
       "       0.0002286 , 0.00022827, 0.00022811, 0.00022777, 0.00022753,\n",
       "       0.00022731, 0.00022731, 0.00022662, 0.00022627, 0.00022601,\n",
       "       0.00022564, 0.00022541, 0.00022504, 0.00022467, 0.00022433,\n",
       "       0.00022402, 0.00022355, 0.00022333, 0.00022314, 0.00022278,\n",
       "       0.00022266, 0.00022234, 0.00022218, 0.00022197, 0.00022152,\n",
       "       0.00022057, 0.00022044, 0.00021997, 0.00021975, 0.00021962,\n",
       "       0.00021941, 0.00021882, 0.00021865, 0.0002183 , 0.00021782,\n",
       "       0.00021739, 0.00021727, 0.00021677, 0.00021632, 0.00021618,\n",
       "       0.00021596, 0.00021551, 0.00021534, 0.00021496, 0.0002147 ,\n",
       "       0.00021456, 0.00021443, 0.00021424, 0.00021412, 0.00021367,\n",
       "       0.00021345, 0.00021277, 0.00021259, 0.00021219, 0.00021201,\n",
       "       0.00021181, 0.00021147, 0.00021137])"
      ]
     },
     "execution_count": 16,
     "metadata": {},
     "output_type": "execute_result"
    }
   ],
   "source": [
    "transformer.explained_variance_ratio_"
   ]
  },
  {
   "cell_type": "code",
   "execution_count": 19,
   "metadata": {},
   "outputs": [
    {
     "data": {
      "text/plain": [
       "[<matplotlib.lines.Line2D at 0x7f75ace8c760>]"
      ]
     },
     "execution_count": 19,
     "metadata": {},
     "output_type": "execute_result"
    },
    {
     "data": {
      "image/png": "[encoded data removed]",
      "text/plain": [
       "<Figure size 432x288 with 1 Axes>"
      ]
     },
     "metadata": {
      "needs_background": "light"
     },
     "output_type": "display_data"
    }
   ],
   "source": [
    "plt.plot(transformer.explained_variance_ratio_,'-')"
   ]
  },
  {
   "cell_type": "code",
   "execution_count": 20,
   "metadata": {},
   "outputs": [
    {
     "data": {
      "text/plain": [
       "738"
      ]
     },
     "execution_count": 20,
     "metadata": {},
     "output_type": "execute_result"
    }
   ],
   "source": [
    "transformer.n_components_"
   ]
  },
  {
   "cell_type": "code",
   "execution_count": 21,
   "metadata": {},
   "outputs": [],
   "source": [
    "X_transformed = transformer.transform(X_filtered)"
   ]
  },
  {
   "cell_type": "code",
   "execution_count": 22,
   "metadata": {},
   "outputs": [
    {
     "data": {
      "text/plain": [
       "(4423, 738)"
      ]
     },
     "execution_count": 22,
     "metadata": {},
     "output_type": "execute_result"
    }
   ],
   "source": [
    "X_transformed.shape"
   ]
  },
  {
   "cell_type": "code",
   "execution_count": 23,
   "metadata": {},
   "outputs": [],
   "source": [
    "from sklearn.pipeline import make_pipeline\n",
    "from sklearn.preprocessing import StandardScaler\n",
    "from sklearn.svm import SVC"
   ]
  },
  {
   "cell_type": "code",
   "execution_count": 24,
   "metadata": {},
   "outputs": [
    {
     "data": {
      "text/plain": [
       "Pipeline(steps=[('standardscaler', StandardScaler()),\n",
       "                ('svc', SVC(gamma='auto'))])"
      ]
     },
     "execution_count": 24,
     "metadata": {},
     "output_type": "execute_result"
    }
   ],
   "source": [
    "clf = make_pipeline(StandardScaler(), SVC(gamma='auto'))\n",
    "clf.fit(X_transformed, y_all)"
   ]
  },
  {
   "cell_type": "code",
   "execution_count": 25,
   "metadata": {},
   "outputs": [],
   "source": [
    "from sklearn.metrics import balanced_accuracy_score"
   ]
  },
  {
   "cell_type": "code",
   "execution_count": 26,
   "metadata": {},
   "outputs": [],
   "source": [
    "X_valid = []\n",
    "y_valid = []\n",
    "for X,y,_ in valid_loader:\n",
    "    X = X.numpy()\n",
    "    X = X.reshape((X.shape[0],-1))\n",
    "    X_valid.append(X)\n",
    "    y_valid.append(y.item())"
   ]
  },
  {
   "cell_type": "code",
   "execution_count": 27,
   "metadata": {},
   "outputs": [],
   "source": [
    "X_valid = np.stack(X_valid,axis=0)"
   ]
  },
  {
   "cell_type": "code",
   "execution_count": 28,
   "metadata": {},
   "outputs": [],
   "source": [
    "X_valid = X_valid.squeeze()"
   ]
  },
  {
   "cell_type": "code",
   "execution_count": 29,
   "metadata": {},
   "outputs": [
    {
     "data": {
      "text/plain": [
       "(492, 2122945)"
      ]
     },
     "execution_count": 29,
     "metadata": {},
     "output_type": "execute_result"
    }
   ],
   "source": [
    "X_valid.shape"
   ]
  },
  {
   "cell_type": "code",
   "execution_count": 30,
   "metadata": {},
   "outputs": [],
   "source": [
    "X_valid = X_valid[:,mean_img > 0.2]"
   ]
  },
  {
   "cell_type": "code",
   "execution_count": 31,
   "metadata": {},
   "outputs": [
    {
     "data": {
      "text/plain": [
       "(492, 472035)"
      ]
     },
     "execution_count": 31,
     "metadata": {},
     "output_type": "execute_result"
    }
   ],
   "source": [
    "X_valid.shape"
   ]
  },
  {
   "cell_type": "code",
   "execution_count": 32,
   "metadata": {},
   "outputs": [],
   "source": [
    "X_valid_transformed = transformer.transform(X_valid)"
   ]
  },
  {
   "cell_type": "code",
   "execution_count": 33,
   "metadata": {},
   "outputs": [
    {
     "data": {
      "text/plain": [
       "(492, 738)"
      ]
     },
     "execution_count": 33,
     "metadata": {},
     "output_type": "execute_result"
    }
   ],
   "source": [
    "X_valid_transformed.shape"
   ]
  },
  {
   "cell_type": "code",
   "execution_count": 34,
   "metadata": {},
   "outputs": [
    {
     "data": {
      "text/plain": [
       "0.6463414634146342"
      ]
     },
     "execution_count": 34,
     "metadata": {},
     "output_type": "execute_result"
    }
   ],
   "source": [
    "clf.score(X_valid_transformed,y_valid)"
   ]
  },
  {
   "attachments": {},
   "cell_type": "markdown",
   "metadata": {},
   "source": [
    "### Control overfitting"
   ]
  },
  {
   "attachments": {},
   "cell_type": "markdown",
   "metadata": {},
   "source": [
    "#### Select less number of components"
   ]
  },
  {
   "cell_type": "code",
   "execution_count": 35,
   "metadata": {},
   "outputs": [
    {
     "data": {
      "text/plain": [
       "(738, 472035)"
      ]
     },
     "execution_count": 35,
     "metadata": {},
     "output_type": "execute_result"
    }
   ],
   "source": [
    "transformer.components_.shape"
   ]
  },
  {
   "cell_type": "code",
   "execution_count": 36,
   "metadata": {},
   "outputs": [
    {
     "data": {
      "text/plain": [
       "(4423, 472035)"
      ]
     },
     "execution_count": 36,
     "metadata": {},
     "output_type": "execute_result"
    }
   ],
   "source": [
    "X_filtered.shape"
   ]
  },
  {
   "cell_type": "code",
   "execution_count": 37,
   "metadata": {},
   "outputs": [
    {
     "data": {
      "text/plain": [
       "(492, 472035)"
      ]
     },
     "execution_count": 37,
     "metadata": {},
     "output_type": "execute_result"
    }
   ],
   "source": [
    "X_valid.shape"
   ]
  },
  {
   "cell_type": "code",
   "execution_count": 38,
   "metadata": {},
   "outputs": [],
   "source": [
    "def compute_accuracy(clf,X,y,X_valid,y_valid,num_comp):\n",
    "    X = np.matmul(X,transformer.components_[:num_comp,:].T)\n",
    "    X_valid = np.matmul(X_valid,transformer.components_[:num_comp,:].T)\n",
    "    clf.fit(X,y)\n",
    "    y_pred_train = clf.predict(X)\n",
    "    y_pred_valid = clf.predict(X_valid)\n",
    "    return (clf.score(X,y),balanced_accuracy_score(y,y_pred_train),\n",
    "            clf.score(X_valid,y_valid),balanced_accuracy_score(y_valid,y_pred_valid))"
   ]
  },
  {
   "cell_type": "code",
   "execution_count": 39,
   "metadata": {},
   "outputs": [],
   "source": [
    "accuracies = [compute_accuracy(clf,X_filtered,y_all,X_valid,y_valid,i) for i in [50,75,100,150,200,250,300,350,400,450,500,550]] "
   ]
  },
  {
   "cell_type": "code",
   "execution_count": 40,
   "metadata": {},
   "outputs": [
    {
     "data": {
      "text/html": [
       "<div>\n",
       "<style scoped>\n",
       "    .dataframe tbody tr th:only-of-type {\n",
       "        vertical-align: middle;\n",
       "    }\n",
       "\n",
       "    .dataframe tbody tr th {\n",
       "        vertical-align: top;\n",
       "    }\n",
       "\n",
       "    .dataframe thead th {\n",
       "        text-align: right;\n",
       "    }\n",
       "</style>\n",
       "<table border=\"1\" class=\"dataframe\">\n",
       "  <thead>\n",
       "    <tr style=\"text-align: right;\">\n",
       "      <th></th>\n",
       "      <th>acc_train</th>\n",
       "      <th>bal_train</th>\n",
       "      <th>acc_valid</th>\n",
       "      <th>bal_valid</th>\n",
       "    </tr>\n",
       "  </thead>\n",
       "  <tbody>\n",
       "    <tr>\n",
       "      <th>50</th>\n",
       "      <td>0.784535</td>\n",
       "      <td>0.717048</td>\n",
       "      <td>0.650407</td>\n",
       "      <td>0.563627</td>\n",
       "    </tr>\n",
       "    <tr>\n",
       "      <th>75</th>\n",
       "      <td>0.831788</td>\n",
       "      <td>0.780352</td>\n",
       "      <td>0.658537</td>\n",
       "      <td>0.582351</td>\n",
       "    </tr>\n",
       "    <tr>\n",
       "      <th>100</th>\n",
       "      <td>0.858241</td>\n",
       "      <td>0.814487</td>\n",
       "      <td>0.648374</td>\n",
       "      <td>0.578128</td>\n",
       "    </tr>\n",
       "    <tr>\n",
       "      <th>150</th>\n",
       "      <td>0.885598</td>\n",
       "      <td>0.847403</td>\n",
       "      <td>0.664634</td>\n",
       "      <td>0.593301</td>\n",
       "    </tr>\n",
       "    <tr>\n",
       "      <th>200</th>\n",
       "      <td>0.899616</td>\n",
       "      <td>0.865639</td>\n",
       "      <td>0.686992</td>\n",
       "      <td>0.621899</td>\n",
       "    </tr>\n",
       "    <tr>\n",
       "      <th>250</th>\n",
       "      <td>0.905494</td>\n",
       "      <td>0.873255</td>\n",
       "      <td>0.684959</td>\n",
       "      <td>0.622787</td>\n",
       "    </tr>\n",
       "    <tr>\n",
       "      <th>300</th>\n",
       "      <td>0.911825</td>\n",
       "      <td>0.880949</td>\n",
       "      <td>0.672764</td>\n",
       "      <td>0.612026</td>\n",
       "    </tr>\n",
       "    <tr>\n",
       "      <th>350</th>\n",
       "      <td>0.916120</td>\n",
       "      <td>0.885954</td>\n",
       "      <td>0.674797</td>\n",
       "      <td>0.621038</td>\n",
       "    </tr>\n",
       "    <tr>\n",
       "      <th>400</th>\n",
       "      <td>0.919059</td>\n",
       "      <td>0.889762</td>\n",
       "      <td>0.670732</td>\n",
       "      <td>0.616626</td>\n",
       "    </tr>\n",
       "    <tr>\n",
       "      <th>450</th>\n",
       "      <td>0.926747</td>\n",
       "      <td>0.900303</td>\n",
       "      <td>0.674797</td>\n",
       "      <td>0.627226</td>\n",
       "    </tr>\n",
       "    <tr>\n",
       "      <th>500</th>\n",
       "      <td>0.930138</td>\n",
       "      <td>0.904739</td>\n",
       "      <td>0.666667</td>\n",
       "      <td>0.615927</td>\n",
       "    </tr>\n",
       "    <tr>\n",
       "      <th>550</th>\n",
       "      <td>0.933529</td>\n",
       "      <td>0.909175</td>\n",
       "      <td>0.658537</td>\n",
       "      <td>0.610815</td>\n",
       "    </tr>\n",
       "  </tbody>\n",
       "</table>\n",
       "</div>"
      ],
      "text/plain": [
       "     acc_train  bal_train  acc_valid  bal_valid\n",
       "50    0.784535   0.717048   0.650407   0.563627\n",
       "75    0.831788   0.780352   0.658537   0.582351\n",
       "100   0.858241   0.814487   0.648374   0.578128\n",
       "150   0.885598   0.847403   0.664634   0.593301\n",
       "200   0.899616   0.865639   0.686992   0.621899\n",
       "250   0.905494   0.873255   0.684959   0.622787\n",
       "300   0.911825   0.880949   0.672764   0.612026\n",
       "350   0.916120   0.885954   0.674797   0.621038\n",
       "400   0.919059   0.889762   0.670732   0.616626\n",
       "450   0.926747   0.900303   0.674797   0.627226\n",
       "500   0.930138   0.904739   0.666667   0.615927\n",
       "550   0.933529   0.909175   0.658537   0.610815"
      ]
     },
     "execution_count": 40,
     "metadata": {},
     "output_type": "execute_result"
    }
   ],
   "source": [
    "pd.DataFrame(accuracies,columns=['acc_train','bal_train','acc_valid','bal_valid'],index= [50,75,100,150,200,250,300,350,400,450,500,550])"
   ]
  },
  {
   "cell_type": "code",
   "execution_count": 41,
   "metadata": {},
   "outputs": [
    {
     "name": "stdout",
     "output_type": "stream",
     "text": [
      "Collecting lazypredict\n",
      "  Downloading lazypredict-0.2.12-py2.py3-none-any.whl (12 kB)\n",
      "Requirement already satisfied: joblib in /data/users2/pnadigapusuresh1/software/envs/latest/lib/python3.10/site-packages (from lazypredict) (1.1.0)\n",
      "Collecting xgboost\n",
      "  Downloading xgboost-1.7.4-py3-none-manylinux2014_x86_64.whl (193.6 MB)\n",
      "\u001b[2K     \u001b[90m━━━━━━━━━━━━━━━━━━━━━━━━━━━━━━━━━━━━━━\u001b[0m \u001b[32m193.6/193.6 MB\u001b[0m \u001b[31m15.9 MB/s\u001b[0m eta \u001b[36m0:00:00\u001b[0m00:01\u001b[0m00:01\u001b[0m\n",
      "\u001b[?25hCollecting tqdm\n",
      "  Downloading tqdm-4.64.1-py2.py3-none-any.whl (78 kB)\n",
      "\u001b[2K     \u001b[90m━━━━━━━━━━━━━━━━━━━━━━━━━━━━━━━━━━━━━━━━\u001b[0m \u001b[32m78.5/78.5 kB\u001b[0m \u001b[31m3.5 MB/s\u001b[0m eta \u001b[36m0:00:00\u001b[0m\n",
      "\u001b[?25hRequirement already satisfied: pandas in /data/users2/pnadigapusuresh1/software/envs/latest/lib/python3.10/site-packages (from lazypredict) (1.4.3)\n",
      "Requirement already satisfied: scikit-learn in /data/users2/pnadigapusuresh1/software/envs/latest/lib/python3.10/site-packages (from lazypredict) (1.0.2)\n",
      "Collecting click\n",
      "  Downloading click-8.1.3-py3-none-any.whl (96 kB)\n",
      "\u001b[2K     \u001b[90m━━━━━━━━━━━━━━━━━━━━━━━━━━━━━━━━━━━━━━━━\u001b[0m \u001b[32m96.6/96.6 kB\u001b[0m \u001b[31m3.2 MB/s\u001b[0m eta \u001b[36m0:00:00\u001b[0m\n",
      "\u001b[?25hCollecting lightgbm\n",
      "  Downloading lightgbm-3.3.5-py3-none-manylinux1_x86_64.whl (2.0 MB)\n",
      "\u001b[2K     \u001b[90m━━━━━━━━━━━━━━━━━━━━━━━━━━━━━━━━━━━━━━━━\u001b[0m \u001b[32m2.0/2.0 MB\u001b[0m \u001b[31m55.0 MB/s\u001b[0m eta \u001b[36m0:00:00\u001b[0m:00:01\u001b[0m\n",
      "\u001b[?25hRequirement already satisfied: wheel in /data/users2/pnadigapusuresh1/software/envs/latest/lib/python3.10/site-packages (from lightgbm->lazypredict) (0.37.1)\n",
      "Requirement already satisfied: numpy in /data/users2/pnadigapusuresh1/software/envs/latest/lib/python3.10/site-packages (from lightgbm->lazypredict) (1.21.5)\n",
      "Requirement already satisfied: scipy in /data/users2/pnadigapusuresh1/software/envs/latest/lib/python3.10/site-packages (from lightgbm->lazypredict) (1.7.3)\n",
      "Requirement already satisfied: threadpoolctl>=2.0.0 in /data/users2/pnadigapusuresh1/software/envs/latest/lib/python3.10/site-packages (from scikit-learn->lazypredict) (2.2.0)\n",
      "Requirement already satisfied: python-dateutil>=2.8.1 in /data/users2/pnadigapusuresh1/software/envs/latest/lib/python3.10/site-packages (from pandas->lazypredict) (2.8.2)\n",
      "Requirement already satisfied: pytz>=2020.1 in /data/users2/pnadigapusuresh1/software/envs/latest/lib/python3.10/site-packages (from pandas->lazypredict) (2022.1)\n",
      "Requirement already satisfied: six>=1.5 in /data/users2/pnadigapusuresh1/software/envs/latest/lib/python3.10/site-packages (from python-dateutil>=2.8.1->pandas->lazypredict) (1.16.0)\n",
      "Installing collected packages: tqdm, click, xgboost, lightgbm, lazypredict\n",
      "Successfully installed click-8.1.3 lazypredict-0.2.12 lightgbm-3.3.5 tqdm-4.64.1 xgboost-1.7.4\n"
     ]
    }
   ],
   "source": [
    "!pip install lazypredict"
   ]
  },
  {
   "cell_type": "code",
   "execution_count": 43,
   "metadata": {},
   "outputs": [],
   "source": [
    "from lazypredict.Supervised import LazyClassifier"
   ]
  },
  {
   "cell_type": "code",
   "execution_count": 44,
   "metadata": {},
   "outputs": [],
   "source": [
    "clf = LazyClassifier(predictions=True)"
   ]
  },
  {
   "cell_type": "code",
   "execution_count": 47,
   "metadata": {},
   "outputs": [
    {
     "name": "stdout",
     "output_type": "stream",
     "text": [
      "'tuple' object has no attribute '__name__'\n",
      "Invalid Classifier(s)\n"
     ]
    },
    {
     "name": "stderr",
     "output_type": "stream",
     "text": [
      "100%|██████████| 29/29 [00:19<00:00,  1.50it/s]\n"
     ]
    },
    {
     "name": "stdout",
     "output_type": "stream",
     "text": [
      "'tuple' object has no attribute '__name__'\n",
      "Invalid Classifier(s)\n"
     ]
    },
    {
     "name": "stderr",
     "output_type": "stream",
     "text": [
      "100%|██████████| 29/29 [00:25<00:00,  1.15it/s]\n"
     ]
    },
    {
     "name": "stdout",
     "output_type": "stream",
     "text": [
      "'tuple' object has no attribute '__name__'\n",
      "Invalid Classifier(s)\n"
     ]
    },
    {
     "name": "stderr",
     "output_type": "stream",
     "text": [
      "100%|██████████| 29/29 [00:31<00:00,  1.09s/it]\n"
     ]
    },
    {
     "name": "stdout",
     "output_type": "stream",
     "text": [
      "'tuple' object has no attribute '__name__'\n",
      "Invalid Classifier(s)\n"
     ]
    },
    {
     "name": "stderr",
     "output_type": "stream",
     "text": [
      "100%|██████████| 29/29 [00:44<00:00,  1.54s/it]\n"
     ]
    },
    {
     "name": "stdout",
     "output_type": "stream",
     "text": [
      "'tuple' object has no attribute '__name__'\n",
      "Invalid Classifier(s)\n"
     ]
    },
    {
     "name": "stderr",
     "output_type": "stream",
     "text": [
      "100%|██████████| 29/29 [00:55<00:00,  1.91s/it]\n"
     ]
    },
    {
     "name": "stdout",
     "output_type": "stream",
     "text": [
      "'tuple' object has no attribute '__name__'\n",
      "Invalid Classifier(s)\n"
     ]
    },
    {
     "name": "stderr",
     "output_type": "stream",
     "text": [
      "100%|██████████| 29/29 [01:10<00:00,  2.42s/it]\n"
     ]
    },
    {
     "name": "stdout",
     "output_type": "stream",
     "text": [
      "'tuple' object has no attribute '__name__'\n",
      "Invalid Classifier(s)\n"
     ]
    },
    {
     "name": "stderr",
     "output_type": "stream",
     "text": [
      "100%|██████████| 29/29 [01:23<00:00,  2.86s/it]\n"
     ]
    },
    {
     "name": "stdout",
     "output_type": "stream",
     "text": [
      "'tuple' object has no attribute '__name__'\n",
      "Invalid Classifier(s)\n"
     ]
    },
    {
     "name": "stderr",
     "output_type": "stream",
     "text": [
      "100%|██████████| 29/29 [01:36<00:00,  3.33s/it]\n"
     ]
    },
    {
     "name": "stdout",
     "output_type": "stream",
     "text": [
      "'tuple' object has no attribute '__name__'\n",
      "Invalid Classifier(s)\n"
     ]
    },
    {
     "name": "stderr",
     "output_type": "stream",
     "text": [
      "100%|██████████| 29/29 [01:49<00:00,  3.79s/it]\n"
     ]
    },
    {
     "name": "stdout",
     "output_type": "stream",
     "text": [
      "'tuple' object has no attribute '__name__'\n",
      "Invalid Classifier(s)\n"
     ]
    },
    {
     "name": "stderr",
     "output_type": "stream",
     "text": [
      "100%|██████████| 29/29 [02:00<00:00,  4.15s/it]\n"
     ]
    },
    {
     "name": "stdout",
     "output_type": "stream",
     "text": [
      "'tuple' object has no attribute '__name__'\n",
      "Invalid Classifier(s)\n"
     ]
    },
    {
     "name": "stderr",
     "output_type": "stream",
     "text": [
      "100%|██████████| 29/29 [02:10<00:00,  4.50s/it]\n"
     ]
    },
    {
     "name": "stdout",
     "output_type": "stream",
     "text": [
      "'tuple' object has no attribute '__name__'\n",
      "Invalid Classifier(s)\n"
     ]
    },
    {
     "name": "stderr",
     "output_type": "stream",
     "text": [
      "100%|██████████| 29/29 [02:22<00:00,  4.92s/it]\n"
     ]
    }
   ],
   "source": [
    "models = []\n",
    "for i in [50,75,100,150,200,250,300,350,400,450,500,550]:\n",
    "    X_fil = np.matmul(X_filtered,transformer.components_[:i,:].T)\n",
    "    X_val = np.matmul(X_valid,transformer.components_[:i,:].T)\n",
    "    model, prediction = clf.fit(X_fil, X_val, y_all, y_valid)\n",
    "    models.append(model)"
   ]
  },
  {
   "cell_type": "code",
   "execution_count": 1,
   "metadata": {},
   "outputs": [
    {
     "ename": "NameError",
     "evalue": "name 'models' is not defined",
     "output_type": "error",
     "traceback": [
      "\u001b[0;31m---------------------------------------------------------------------------\u001b[0m",
      "\u001b[0;31mNameError\u001b[0m                                 Traceback (most recent call last)",
      "\u001b[1;32m/home/users/pnadigapusuresh1/Documents/Python Code/Ukbio_bank/SVM.ipynb Cell 44\u001b[0m in \u001b[0;36m<cell line: 1>\u001b[0;34m()\u001b[0m\n\u001b[0;32m----> <a href='vscode-notebook-cell://ssh-remote%2Barctrdagn019/home/users/pnadigapusuresh1/Documents/Python%20Code/Ukbio_bank/SVM.ipynb#X61sdnNjb2RlLXJlbW90ZQ%3D%3D?line=0'>1</a>\u001b[0m models[\u001b[39m5\u001b[39m]\n",
      "\u001b[0;31mNameError\u001b[0m: name 'models' is not defined"
     ]
    }
   ],
   "source": [
    "models[10]"
   ]
  },
  {
   "cell_type": "code",
   "execution_count": null,
   "metadata": {},
   "outputs": [],
   "source": []
  }
 ],
 "metadata": {
  "kernelspec": {
   "display_name": "latest",
   "language": "python",
   "name": "python3"
  },
  "language_info": {
   "codemirror_mode": {
    "name": "ipython",
    "version": 3
   },
   "file_extension": ".py",
   "mimetype": "text/x-python",
   "name": "python",
   "nbconvert_exporter": "python",
   "pygments_lexer": "ipython3",
   "version": "3.10.4 (main, Mar 31 2022, 08:41:55) [GCC 7.5.0]"
  },
  "orig_nbformat": 4,
  "vscode": {
   "interpreter": {
    "hash": "65354879b211816c06816317081346b51d26a7261dd303864e7df7aa3071e8ab"
   }
  }
 },
 "nbformat": 4,
 "nbformat_minor": 2
}
