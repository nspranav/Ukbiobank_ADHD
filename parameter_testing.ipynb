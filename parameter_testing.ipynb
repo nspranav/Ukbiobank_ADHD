{
 "cells": [
  {
   "cell_type": "code",
   "execution_count": 1,
   "metadata": {},
   "outputs": [
    {
     "name": "stderr",
     "output_type": "stream",
     "text": [
      "/data/users2/pnadigapusuresh1/software/envs/latest/lib/python3.10/site-packages/scipy/__init__.py:146: UserWarning: A NumPy version >=1.16.5 and <1.23.0 is required for this version of SciPy (detected version 1.23.1\n",
      "  warnings.warn(f\"A NumPy version >={np_minversion} and <{np_maxversion}\"\n"
     ]
    }
   ],
   "source": [
    "import numpy as np\n",
    "import pandas as pd\n",
    "import argparse\n",
    "import os\n",
    "\n",
    "import torch\n",
    "from torch import nn, optim\n",
    "from torch.utils.data import DataLoader\n",
    "from torchvision import transforms\n",
    "from torch.utils.data.sampler import SubsetRandomSampler\n",
    "import torch.nn.functional as F\n",
    "\n",
    "from custom_dataset import CustomDataset\n",
    "from network import Network\n",
    "from utils import *\n",
    "\n",
    "from sklearn.model_selection import StratifiedShuffleSplit"
   ]
  },
  {
   "cell_type": "code",
   "execution_count": 2,
   "metadata": {},
   "outputs": [
    {
     "data": {
      "text/plain": [
       "2"
      ]
     },
     "execution_count": 2,
     "metadata": {},
     "output_type": "execute_result"
    }
   ],
   "source": [
    "torch.cuda.device_count()"
   ]
  },
  {
   "cell_type": "code",
   "execution_count": 3,
   "metadata": {},
   "outputs": [
    {
     "name": "stdout",
     "output_type": "stream",
     "text": [
      "Using cuda device\n"
     ]
    }
   ],
   "source": [
    "parent_directory = '/data/users2/pnadigapusuresh1/JobOutputs'\n",
    "device = \"cuda\" if torch.cuda.is_available() else \"cpu\"\n",
    "print(\"Using {} device\".format(device))"
   ]
  },
  {
   "cell_type": "markdown",
   "metadata": {},
   "source": [
    "### Loading model for 1 Fully-connected layer. "
   ]
  },
  {
   "cell_type": "code",
   "execution_count": 4,
   "metadata": {},
   "outputs": [
    {
     "data": {
      "text/plain": [
       "<All keys matched successfully>"
      ]
     },
     "execution_count": 4,
     "metadata": {},
     "output_type": "execute_result"
    }
   ],
   "source": [
    "\n",
    "model = Network()\n",
    "#model = nn.DataParallel(model)\n",
    "model.to(device)\n",
    "\n",
    "# Loading the model from Job 5436878\n",
    "#loading model from 6066159\n",
    "load_path = os.path.join(parent_directory,'5436878','models','epoch_28')\n",
    "\n",
    "model.load_state_dict(torch.load(load_path))"
   ]
  },
  {
   "cell_type": "code",
   "execution_count": 5,
   "metadata": {},
   "outputs": [],
   "source": [
    "model = nn.DataParallel(model)"
   ]
  },
  {
   "cell_type": "code",
   "execution_count": 4,
   "metadata": {},
   "outputs": [],
   "source": [
    "torch.manual_seed(52)\n",
    "np.random.seed(52)\n",
    "# number of subprocesses to use for data loading\n",
    "num_workers = 1\n",
    "# how many samples per batch to load\n",
    "batch_size = 5"
   ]
  },
  {
   "cell_type": "code",
   "execution_count": 7,
   "metadata": {},
   "outputs": [],
   "source": [
    "valid_size = 0.20\n",
    "# percentage of data to be used for testset\n",
    "test_size = 0.10\n",
    "\n",
    "\n",
    "train_data = CustomDataset(transform = \n",
    "                        transforms.Compose([\n",
    "                            transforms.RandomHorizontalFlip()\n",
    "                            ]),train=True)\n",
    "\n",
    "valid_data = CustomDataset(train=False)\n",
    "\n",
    "# get filtered variables\n",
    "vars = valid_data.vars"
   ]
  },
  {
   "cell_type": "code",
   "execution_count": 9,
   "metadata": {},
   "outputs": [],
   "source": [
    "num_train = len(train_data)\n",
    "indices = list(range(num_train))\n",
    "np.random.shuffle(indices)\n",
    "test_split = int(np.floor(test_size * num_train))\n",
    "test_idx, train_idx = indices[: test_split], indices[test_split : ]\n",
    "\n",
    "train_rem = len(train_idx)\n",
    "valid_spilt = int(np.floor(valid_size * train_rem))\n",
    "\n",
    "valid_idx, train_idx = indices[: valid_spilt], indices[valid_spilt : ]"
   ]
  },
  {
   "cell_type": "code",
   "execution_count": 10,
   "metadata": {},
   "outputs": [],
   "source": [
    "test_sampler = SubsetRandomSampler(test_idx)\n",
    "test_loader = DataLoader(valid_data,batch_size = batch_size, \n",
    "                            sampler = test_sampler, num_workers=num_workers)"
   ]
  },
  {
   "cell_type": "code",
   "execution_count": 11,
   "metadata": {},
   "outputs": [],
   "source": [
    "criterion = nn.L1Loss()"
   ]
  },
  {
   "cell_type": "code",
   "execution_count": 16,
   "metadata": {},
   "outputs": [],
   "source": [
    "def test(model):\n",
    "    actual_test = torch.tensor([]).to(device)\n",
    "    pred_test = torch.tensor([]).to(device)\n",
    "\n",
    "    test_loss = 0\n",
    "\n",
    "    for X, y in test_loader:\n",
    "        X,y = X.to(device),y.to(device)\n",
    "        actual_test = torch.cat((actual_test,y),0)\n",
    "        pred = torch.squeeze(model(torch.unsqueeze(X,1).float()))\n",
    "        try:\n",
    "            test_loss += criterion(pred,y.float()).item()\n",
    "        except:\n",
    "            print(pred)\n",
    "            print(y)\n",
    "    \n",
    "    return test_loss/len(test_loader)"
   ]
  },
  {
   "cell_type": "markdown",
   "metadata": {},
   "source": [
    "### 1 Fc Layer/Folds"
   ]
  },
  {
   "cell_type": "markdown",
   "metadata": {},
   "source": [
    "### Testing for 1 FC layers"
   ]
  },
  {
   "cell_type": "code",
   "execution_count": 12,
   "metadata": {},
   "outputs": [
    {
     "name": "stdout",
     "output_type": "stream",
     "text": [
      "train mean = 2.9498000000000006\n",
      "train std = 0.04677349676900367\n",
      "val mean = 2.999\n",
      "val std = 0.0533778980477876\n"
     ]
    }
   ],
   "source": [
    "train_scores = [3.014,2.927,2.990,2.935,2.883]\n",
    "val_scores = [2.960,3.033,3.071,2.920,3.011]\n",
    "\n",
    "print('train mean =',np.mean(train_scores))\n",
    "print('train std =',np.std(train_scores))\n",
    "print('val mean =',np.mean(val_scores))\n",
    "print('val std =',np.std(val_scores))"
   ]
  },
  {
   "cell_type": "code",
   "execution_count": 13,
   "metadata": {},
   "outputs": [
    {
     "data": {
      "text/plain": [
       "DataParallel(\n",
       "  (module): Network(\n",
       "    (cv1): Conv3d(1, 32, kernel_size=(3, 3, 3), stride=(1, 1, 1))\n",
       "    (bn1): BatchNorm3d(32, eps=1e-05, momentum=0.1, affine=True, track_running_stats=True)\n",
       "    (cv2): Conv3d(32, 64, kernel_size=(3, 3, 3), stride=(1, 1, 1))\n",
       "    (bn2): BatchNorm3d(64, eps=1e-05, momentum=0.1, affine=True, track_running_stats=True)\n",
       "    (cv3): Conv3d(64, 128, kernel_size=(3, 3, 3), stride=(1, 1, 1))\n",
       "    (bn3): BatchNorm3d(128, eps=1e-05, momentum=0.1, affine=True, track_running_stats=True)\n",
       "    (cv4): Conv3d(128, 256, kernel_size=(3, 3, 3), stride=(1, 1, 1))\n",
       "    (bn4): BatchNorm3d(256, eps=1e-05, momentum=0.1, affine=True, track_running_stats=True)\n",
       "    (cv5): Conv3d(256, 256, kernel_size=(3, 3, 3), stride=(1, 1, 1))\n",
       "    (bn5): BatchNorm3d(256, eps=1e-05, momentum=0.1, affine=True, track_running_stats=True)\n",
       "    (pool): MaxPool3d(kernel_size=2, stride=2, padding=0, dilation=1, ceil_mode=False)\n",
       "    (fc1): Sequential(\n",
       "      (0): Linear(in_features=512, out_features=1, bias=True)\n",
       "    )\n",
       "    (d3d): Dropout3d(p=0.2, inplace=False)\n",
       "    (layer2): Sequential(\n",
       "      (0): Conv3d(32, 64, kernel_size=(3, 3, 3), stride=(1, 1, 1))\n",
       "      (1): BatchNorm3d(64, eps=1e-05, momentum=0.1, affine=True, track_running_stats=True)\n",
       "      (2): MaxPool3d(kernel_size=2, stride=2, padding=0, dilation=1, ceil_mode=False)\n",
       "      (3): ReLU()\n",
       "    )\n",
       "    (layer3): Sequential(\n",
       "      (0): Conv3d(64, 128, kernel_size=(3, 3, 3), stride=(1, 1, 1))\n",
       "      (1): BatchNorm3d(128, eps=1e-05, momentum=0.1, affine=True, track_running_stats=True)\n",
       "      (2): MaxPool3d(kernel_size=2, stride=2, padding=0, dilation=1, ceil_mode=False)\n",
       "      (3): ReLU()\n",
       "    )\n",
       "    (layer4): Sequential(\n",
       "      (0): Conv3d(128, 256, kernel_size=(3, 3, 3), stride=(1, 1, 1))\n",
       "      (1): BatchNorm3d(256, eps=1e-05, momentum=0.1, affine=True, track_running_stats=True)\n",
       "      (2): MaxPool3d(kernel_size=2, stride=2, padding=0, dilation=1, ceil_mode=False)\n",
       "      (3): ReLU()\n",
       "    )\n",
       "    (layer1): Sequential(\n",
       "      (0): Conv3d(1, 32, kernel_size=(3, 3, 3), stride=(1, 1, 1))\n",
       "      (1): BatchNorm3d(32, eps=1e-05, momentum=0.1, affine=True, track_running_stats=True)\n",
       "      (2): MaxPool3d(kernel_size=2, stride=2, padding=0, dilation=1, ceil_mode=False)\n",
       "      (3): ReLU()\n",
       "    )\n",
       "    (layer5): Sequential(\n",
       "      (0): Conv3d(256, 256, kernel_size=(3, 3, 3), stride=(1, 1, 1))\n",
       "      (1): BatchNorm3d(256, eps=1e-05, momentum=0.1, affine=True, track_running_stats=True)\n",
       "      (2): MaxPool3d(kernel_size=2, stride=2, padding=0, dilation=1, ceil_mode=False)\n",
       "      (3): ReLU()\n",
       "    )\n",
       "    (convs): Sequential(\n",
       "      (0): Sequential(\n",
       "        (0): Conv3d(1, 32, kernel_size=(3, 3, 3), stride=(1, 1, 1))\n",
       "        (1): BatchNorm3d(32, eps=1e-05, momentum=0.1, affine=True, track_running_stats=True)\n",
       "        (2): MaxPool3d(kernel_size=2, stride=2, padding=0, dilation=1, ceil_mode=False)\n",
       "        (3): ReLU()\n",
       "      )\n",
       "      (1): Sequential(\n",
       "        (0): Conv3d(32, 64, kernel_size=(3, 3, 3), stride=(1, 1, 1))\n",
       "        (1): BatchNorm3d(64, eps=1e-05, momentum=0.1, affine=True, track_running_stats=True)\n",
       "        (2): MaxPool3d(kernel_size=2, stride=2, padding=0, dilation=1, ceil_mode=False)\n",
       "        (3): ReLU()\n",
       "      )\n",
       "      (2): Sequential(\n",
       "        (0): Conv3d(64, 128, kernel_size=(3, 3, 3), stride=(1, 1, 1))\n",
       "        (1): BatchNorm3d(128, eps=1e-05, momentum=0.1, affine=True, track_running_stats=True)\n",
       "        (2): MaxPool3d(kernel_size=2, stride=2, padding=0, dilation=1, ceil_mode=False)\n",
       "        (3): ReLU()\n",
       "      )\n",
       "      (3): Sequential(\n",
       "        (0): Conv3d(128, 256, kernel_size=(3, 3, 3), stride=(1, 1, 1))\n",
       "        (1): BatchNorm3d(256, eps=1e-05, momentum=0.1, affine=True, track_running_stats=True)\n",
       "        (2): MaxPool3d(kernel_size=2, stride=2, padding=0, dilation=1, ceil_mode=False)\n",
       "        (3): ReLU()\n",
       "      )\n",
       "      (4): Sequential(\n",
       "        (0): Conv3d(256, 256, kernel_size=(3, 3, 3), stride=(1, 1, 1))\n",
       "        (1): BatchNorm3d(256, eps=1e-05, momentum=0.1, affine=True, track_running_stats=True)\n",
       "        (2): MaxPool3d(kernel_size=2, stride=2, padding=0, dilation=1, ceil_mode=False)\n",
       "        (3): ReLU()\n",
       "      )\n",
       "    )\n",
       "    (dropout): Dropout(p=0.2, inplace=False)\n",
       "  )\n",
       ")"
      ]
     },
     "execution_count": 13,
     "metadata": {},
     "output_type": "execute_result"
    }
   ],
   "source": [
    "model = Network()\n",
    "model.fc1 = nn.Sequential(nn.Linear(512,1))\n",
    "model = nn.DataParallel(model)\n",
    "model.to(device)"
   ]
  },
  {
   "cell_type": "code",
   "execution_count": 14,
   "metadata": {},
   "outputs": [],
   "source": [
    "best_models_1fc = {\n",
    "    '1' : 'epoch_65',\n",
    "    '2' : 'epoch_71',\n",
    "    '3' : 'epoch_65',\n",
    "    '4' : 'epoch_71',\n",
    "    '5' : 'epoch_75'\n",
    "}"
   ]
  },
  {
   "cell_type": "code",
   "execution_count": 17,
   "metadata": {},
   "outputs": [
    {
     "name": "stdout",
     "output_type": "stream",
     "text": [
      "[3.579393994208402, 3.0456600812246215, 3.382453809894106, 3.4724090444966684, 2.9856867243658822]\n",
      "mean =  3.2931207308379356\n",
      "std =  0.23572421224453227\n"
     ]
    }
   ],
   "source": [
    "test_scores = []\n",
    "for k,v in best_models_1fc.items():\n",
    "    load_path = os.path.join(parent_directory,'6164265/models_fold',k,v)\n",
    "    model.load_state_dict(torch.load(load_path))\n",
    "    test_scores.append(test(model))\n",
    "\n",
    "print(test_scores)\n",
    "print('mean = ',np.mean(test_scores))\n",
    "print('std = ',np.std(test_scores)) "
   ]
  },
  {
   "cell_type": "markdown",
   "metadata": {},
   "source": [
    "### Testing for 2 Fc layers"
   ]
  },
  {
   "cell_type": "code",
   "execution_count": 15,
   "metadata": {},
   "outputs": [
    {
     "name": "stdout",
     "output_type": "stream",
     "text": [
      "train mean = 4.6938\n",
      "train std = 0.24044741628888447\n",
      "val mean = 4.6156\n",
      "val std = 0.1901016570153978\n"
     ]
    }
   ],
   "source": [
    "train_scores = [4.956, 4.413, 4.980, 4.451, 4.669]\n",
    "val_scores = [4.854, 4.495, 4.834, 4.397, 4.498]\n",
    "\n",
    "print('train mean =',np.mean(train_scores))\n",
    "print('train std =',np.std(train_scores))\n",
    "print('val mean =',np.mean(val_scores))\n",
    "print('val std =',np.std(val_scores))"
   ]
  },
  {
   "cell_type": "code",
   "execution_count": 16,
   "metadata": {},
   "outputs": [
    {
     "data": {
      "text/plain": [
       "DataParallel(\n",
       "  (module): Network(\n",
       "    (cv1): Conv3d(1, 32, kernel_size=(3, 3, 3), stride=(1, 1, 1))\n",
       "    (bn1): BatchNorm3d(32, eps=1e-05, momentum=0.1, affine=True, track_running_stats=True)\n",
       "    (cv2): Conv3d(32, 64, kernel_size=(3, 3, 3), stride=(1, 1, 1))\n",
       "    (bn2): BatchNorm3d(64, eps=1e-05, momentum=0.1, affine=True, track_running_stats=True)\n",
       "    (cv3): Conv3d(64, 128, kernel_size=(3, 3, 3), stride=(1, 1, 1))\n",
       "    (bn3): BatchNorm3d(128, eps=1e-05, momentum=0.1, affine=True, track_running_stats=True)\n",
       "    (cv4): Conv3d(128, 256, kernel_size=(3, 3, 3), stride=(1, 1, 1))\n",
       "    (bn4): BatchNorm3d(256, eps=1e-05, momentum=0.1, affine=True, track_running_stats=True)\n",
       "    (cv5): Conv3d(256, 256, kernel_size=(3, 3, 3), stride=(1, 1, 1))\n",
       "    (bn5): BatchNorm3d(256, eps=1e-05, momentum=0.1, affine=True, track_running_stats=True)\n",
       "    (pool): MaxPool3d(kernel_size=2, stride=2, padding=0, dilation=1, ceil_mode=False)\n",
       "    (fc1): Sequential(\n",
       "      (0): Linear(in_features=512, out_features=256, bias=True)\n",
       "      (1): ReLU()\n",
       "      (2): Dropout(p=0.5, inplace=False)\n",
       "      (3): Linear(in_features=256, out_features=1, bias=True)\n",
       "    )\n",
       "    (d3d): Dropout3d(p=0.2, inplace=False)\n",
       "    (layer2): Sequential(\n",
       "      (0): Conv3d(32, 64, kernel_size=(3, 3, 3), stride=(1, 1, 1))\n",
       "      (1): BatchNorm3d(64, eps=1e-05, momentum=0.1, affine=True, track_running_stats=True)\n",
       "      (2): MaxPool3d(kernel_size=2, stride=2, padding=0, dilation=1, ceil_mode=False)\n",
       "      (3): ReLU()\n",
       "    )\n",
       "    (layer3): Sequential(\n",
       "      (0): Conv3d(64, 128, kernel_size=(3, 3, 3), stride=(1, 1, 1))\n",
       "      (1): BatchNorm3d(128, eps=1e-05, momentum=0.1, affine=True, track_running_stats=True)\n",
       "      (2): MaxPool3d(kernel_size=2, stride=2, padding=0, dilation=1, ceil_mode=False)\n",
       "      (3): ReLU()\n",
       "    )\n",
       "    (layer4): Sequential(\n",
       "      (0): Conv3d(128, 256, kernel_size=(3, 3, 3), stride=(1, 1, 1))\n",
       "      (1): BatchNorm3d(256, eps=1e-05, momentum=0.1, affine=True, track_running_stats=True)\n",
       "      (2): MaxPool3d(kernel_size=2, stride=2, padding=0, dilation=1, ceil_mode=False)\n",
       "      (3): ReLU()\n",
       "    )\n",
       "    (layer1): Sequential(\n",
       "      (0): Conv3d(1, 32, kernel_size=(3, 3, 3), stride=(1, 1, 1))\n",
       "      (1): BatchNorm3d(32, eps=1e-05, momentum=0.1, affine=True, track_running_stats=True)\n",
       "      (2): MaxPool3d(kernel_size=2, stride=2, padding=0, dilation=1, ceil_mode=False)\n",
       "      (3): ReLU()\n",
       "    )\n",
       "    (layer5): Sequential(\n",
       "      (0): Conv3d(256, 256, kernel_size=(3, 3, 3), stride=(1, 1, 1))\n",
       "      (1): BatchNorm3d(256, eps=1e-05, momentum=0.1, affine=True, track_running_stats=True)\n",
       "      (2): MaxPool3d(kernel_size=2, stride=2, padding=0, dilation=1, ceil_mode=False)\n",
       "      (3): ReLU()\n",
       "    )\n",
       "    (convs): Sequential(\n",
       "      (0): Sequential(\n",
       "        (0): Conv3d(1, 32, kernel_size=(3, 3, 3), stride=(1, 1, 1))\n",
       "        (1): BatchNorm3d(32, eps=1e-05, momentum=0.1, affine=True, track_running_stats=True)\n",
       "        (2): MaxPool3d(kernel_size=2, stride=2, padding=0, dilation=1, ceil_mode=False)\n",
       "        (3): ReLU()\n",
       "      )\n",
       "      (1): Sequential(\n",
       "        (0): Conv3d(32, 64, kernel_size=(3, 3, 3), stride=(1, 1, 1))\n",
       "        (1): BatchNorm3d(64, eps=1e-05, momentum=0.1, affine=True, track_running_stats=True)\n",
       "        (2): MaxPool3d(kernel_size=2, stride=2, padding=0, dilation=1, ceil_mode=False)\n",
       "        (3): ReLU()\n",
       "      )\n",
       "      (2): Sequential(\n",
       "        (0): Conv3d(64, 128, kernel_size=(3, 3, 3), stride=(1, 1, 1))\n",
       "        (1): BatchNorm3d(128, eps=1e-05, momentum=0.1, affine=True, track_running_stats=True)\n",
       "        (2): MaxPool3d(kernel_size=2, stride=2, padding=0, dilation=1, ceil_mode=False)\n",
       "        (3): ReLU()\n",
       "      )\n",
       "      (3): Sequential(\n",
       "        (0): Conv3d(128, 256, kernel_size=(3, 3, 3), stride=(1, 1, 1))\n",
       "        (1): BatchNorm3d(256, eps=1e-05, momentum=0.1, affine=True, track_running_stats=True)\n",
       "        (2): MaxPool3d(kernel_size=2, stride=2, padding=0, dilation=1, ceil_mode=False)\n",
       "        (3): ReLU()\n",
       "      )\n",
       "      (4): Sequential(\n",
       "        (0): Conv3d(256, 256, kernel_size=(3, 3, 3), stride=(1, 1, 1))\n",
       "        (1): BatchNorm3d(256, eps=1e-05, momentum=0.1, affine=True, track_running_stats=True)\n",
       "        (2): MaxPool3d(kernel_size=2, stride=2, padding=0, dilation=1, ceil_mode=False)\n",
       "        (3): ReLU()\n",
       "      )\n",
       "    )\n",
       "    (dropout): Dropout(p=0.2, inplace=False)\n",
       "  )\n",
       ")"
      ]
     },
     "execution_count": 16,
     "metadata": {},
     "output_type": "execute_result"
    }
   ],
   "source": [
    "model = Network()\n",
    "model.fc1 = nn.Sequential(nn.Linear(512,256),nn.ReLU(),\n",
    "    nn.Dropout(),nn.Linear(256,1))\n",
    "model = nn.DataParallel(model)\n",
    "model.to(device)"
   ]
  },
  {
   "cell_type": "code",
   "execution_count": 18,
   "metadata": {},
   "outputs": [],
   "source": [
    "best_models_2fc = {\n",
    "    '1' : 'epoch_26',\n",
    "    '2' : 'epoch_74',\n",
    "    '3' : 'epoch_25',\n",
    "    '4' : 'epoch_66',\n",
    "    '5' : 'epoch_48'\n",
    "}"
   ]
  },
  {
   "cell_type": "code",
   "execution_count": 19,
   "metadata": {},
   "outputs": [
    {
     "name": "stdout",
     "output_type": "stream",
     "text": [
      "[5.129466643123506, 6.777093748176623, 6.380527339116583, 5.641125306843212, 4.606362208555329]\n",
      "mean =  5.70691504916305\n",
      "std =  0.7934768392083877\n"
     ]
    }
   ],
   "source": [
    "test_scores = []\n",
    "for k,v in best_models_2fc.items():\n",
    "    load_path = os.path.join(parent_directory,'6173079/models_fold',k,v)\n",
    "    model.load_state_dict(torch.load(load_path))\n",
    "    test_scores.append(test(model))\n",
    "\n",
    "\n",
    "print(test_scores)\n",
    "print('mean = ',np.mean(test_scores))\n",
    "print('std = ',np.std(test_scores)) "
   ]
  },
  {
   "cell_type": "markdown",
   "metadata": {},
   "source": [
    "### Testing for 3 Fc layers"
   ]
  },
  {
   "cell_type": "code",
   "execution_count": 32,
   "metadata": {},
   "outputs": [
    {
     "name": "stdout",
     "output_type": "stream",
     "text": [
      "train mean = 6.4706\n",
      "train std = 0.4304809403446335\n",
      "val mean = 6.837200000000001\n",
      "val std = 1.0286755367947655\n"
     ]
    }
   ],
   "source": [
    "train_scores = [7.314, 6.267, 6.291, 6.107, 6.374]\n",
    "val_scores = [8.838, 6.731, 6.394, 5.996, 6.227]\n",
    "\n",
    "print('train mean =',np.mean(train_scores))\n",
    "print('train std =',np.std(train_scores))\n",
    "print('val mean =',np.mean(val_scores))\n",
    "print('val std =',np.std(val_scores))"
   ]
  },
  {
   "cell_type": "code",
   "execution_count": 20,
   "metadata": {},
   "outputs": [
    {
     "data": {
      "text/plain": [
       "DataParallel(\n",
       "  (module): Network(\n",
       "    (cv1): Conv3d(1, 32, kernel_size=(3, 3, 3), stride=(1, 1, 1))\n",
       "    (bn1): BatchNorm3d(32, eps=1e-05, momentum=0.1, affine=True, track_running_stats=True)\n",
       "    (cv2): Conv3d(32, 64, kernel_size=(3, 3, 3), stride=(1, 1, 1))\n",
       "    (bn2): BatchNorm3d(64, eps=1e-05, momentum=0.1, affine=True, track_running_stats=True)\n",
       "    (cv3): Conv3d(64, 128, kernel_size=(3, 3, 3), stride=(1, 1, 1))\n",
       "    (bn3): BatchNorm3d(128, eps=1e-05, momentum=0.1, affine=True, track_running_stats=True)\n",
       "    (cv4): Conv3d(128, 256, kernel_size=(3, 3, 3), stride=(1, 1, 1))\n",
       "    (bn4): BatchNorm3d(256, eps=1e-05, momentum=0.1, affine=True, track_running_stats=True)\n",
       "    (cv5): Conv3d(256, 256, kernel_size=(3, 3, 3), stride=(1, 1, 1))\n",
       "    (bn5): BatchNorm3d(256, eps=1e-05, momentum=0.1, affine=True, track_running_stats=True)\n",
       "    (pool): MaxPool3d(kernel_size=2, stride=2, padding=0, dilation=1, ceil_mode=False)\n",
       "    (fc1): Sequential(\n",
       "      (0): Linear(in_features=512, out_features=256, bias=True)\n",
       "      (1): ReLU()\n",
       "      (2): Dropout(p=0.5, inplace=False)\n",
       "      (3): Linear(in_features=256, out_features=128, bias=True)\n",
       "      (4): ReLU()\n",
       "      (5): Dropout(p=0.5, inplace=False)\n",
       "      (6): Linear(in_features=128, out_features=1, bias=True)\n",
       "    )\n",
       "    (d3d): Dropout3d(p=0.2, inplace=False)\n",
       "    (layer2): Sequential(\n",
       "      (0): Conv3d(32, 64, kernel_size=(3, 3, 3), stride=(1, 1, 1))\n",
       "      (1): BatchNorm3d(64, eps=1e-05, momentum=0.1, affine=True, track_running_stats=True)\n",
       "      (2): MaxPool3d(kernel_size=2, stride=2, padding=0, dilation=1, ceil_mode=False)\n",
       "      (3): ReLU()\n",
       "    )\n",
       "    (layer3): Sequential(\n",
       "      (0): Conv3d(64, 128, kernel_size=(3, 3, 3), stride=(1, 1, 1))\n",
       "      (1): BatchNorm3d(128, eps=1e-05, momentum=0.1, affine=True, track_running_stats=True)\n",
       "      (2): MaxPool3d(kernel_size=2, stride=2, padding=0, dilation=1, ceil_mode=False)\n",
       "      (3): ReLU()\n",
       "    )\n",
       "    (layer4): Sequential(\n",
       "      (0): Conv3d(128, 256, kernel_size=(3, 3, 3), stride=(1, 1, 1))\n",
       "      (1): BatchNorm3d(256, eps=1e-05, momentum=0.1, affine=True, track_running_stats=True)\n",
       "      (2): MaxPool3d(kernel_size=2, stride=2, padding=0, dilation=1, ceil_mode=False)\n",
       "      (3): ReLU()\n",
       "    )\n",
       "    (layer1): Sequential(\n",
       "      (0): Conv3d(1, 32, kernel_size=(3, 3, 3), stride=(1, 1, 1))\n",
       "      (1): BatchNorm3d(32, eps=1e-05, momentum=0.1, affine=True, track_running_stats=True)\n",
       "      (2): MaxPool3d(kernel_size=2, stride=2, padding=0, dilation=1, ceil_mode=False)\n",
       "      (3): ReLU()\n",
       "    )\n",
       "    (layer5): Sequential(\n",
       "      (0): Conv3d(256, 256, kernel_size=(3, 3, 3), stride=(1, 1, 1))\n",
       "      (1): BatchNorm3d(256, eps=1e-05, momentum=0.1, affine=True, track_running_stats=True)\n",
       "      (2): MaxPool3d(kernel_size=2, stride=2, padding=0, dilation=1, ceil_mode=False)\n",
       "      (3): ReLU()\n",
       "    )\n",
       "    (convs): Sequential(\n",
       "      (0): Sequential(\n",
       "        (0): Conv3d(1, 32, kernel_size=(3, 3, 3), stride=(1, 1, 1))\n",
       "        (1): BatchNorm3d(32, eps=1e-05, momentum=0.1, affine=True, track_running_stats=True)\n",
       "        (2): MaxPool3d(kernel_size=2, stride=2, padding=0, dilation=1, ceil_mode=False)\n",
       "        (3): ReLU()\n",
       "      )\n",
       "      (1): Sequential(\n",
       "        (0): Conv3d(32, 64, kernel_size=(3, 3, 3), stride=(1, 1, 1))\n",
       "        (1): BatchNorm3d(64, eps=1e-05, momentum=0.1, affine=True, track_running_stats=True)\n",
       "        (2): MaxPool3d(kernel_size=2, stride=2, padding=0, dilation=1, ceil_mode=False)\n",
       "        (3): ReLU()\n",
       "      )\n",
       "      (2): Sequential(\n",
       "        (0): Conv3d(64, 128, kernel_size=(3, 3, 3), stride=(1, 1, 1))\n",
       "        (1): BatchNorm3d(128, eps=1e-05, momentum=0.1, affine=True, track_running_stats=True)\n",
       "        (2): MaxPool3d(kernel_size=2, stride=2, padding=0, dilation=1, ceil_mode=False)\n",
       "        (3): ReLU()\n",
       "      )\n",
       "      (3): Sequential(\n",
       "        (0): Conv3d(128, 256, kernel_size=(3, 3, 3), stride=(1, 1, 1))\n",
       "        (1): BatchNorm3d(256, eps=1e-05, momentum=0.1, affine=True, track_running_stats=True)\n",
       "        (2): MaxPool3d(kernel_size=2, stride=2, padding=0, dilation=1, ceil_mode=False)\n",
       "        (3): ReLU()\n",
       "      )\n",
       "      (4): Sequential(\n",
       "        (0): Conv3d(256, 256, kernel_size=(3, 3, 3), stride=(1, 1, 1))\n",
       "        (1): BatchNorm3d(256, eps=1e-05, momentum=0.1, affine=True, track_running_stats=True)\n",
       "        (2): MaxPool3d(kernel_size=2, stride=2, padding=0, dilation=1, ceil_mode=False)\n",
       "        (3): ReLU()\n",
       "      )\n",
       "    )\n",
       "    (dropout): Dropout(p=0.2, inplace=False)\n",
       "  )\n",
       ")"
      ]
     },
     "execution_count": 20,
     "metadata": {},
     "output_type": "execute_result"
    }
   ],
   "source": [
    "model = Network()\n",
    "model.fc1 = nn.Sequential(nn.Linear(512,256),nn.ReLU(),\n",
    "    nn.Dropout(),nn.Linear(256,128),nn.ReLU(),nn.Dropout(),\n",
    "    nn.Linear(128,1))\n",
    "model = nn.DataParallel(model)\n",
    "model.to(device)"
   ]
  },
  {
   "cell_type": "code",
   "execution_count": 21,
   "metadata": {},
   "outputs": [],
   "source": [
    "best_models_3fc = {\n",
    "    '3' : 'epoch_62',\n",
    "    '4' : 'epoch_75',\n",
    "    '5' : 'epoch_51'\n",
    "}"
   ]
  },
  {
   "cell_type": "code",
   "execution_count": 22,
   "metadata": {},
   "outputs": [
    {
     "name": "stdout",
     "output_type": "stream",
     "text": [
      "[8.52802372578555, 7.74477335012184, 7.73857762078819]\n",
      "mean =  8.003791565565194\n",
      "std =  0.37069674499287614\n"
     ]
    }
   ],
   "source": [
    "test_scores = []\n",
    "for k,v in best_models_3fc.items():\n",
    "    load_path = os.path.join(parent_directory,'6183834/models_fold',k,v)\n",
    "    model.load_state_dict(torch.load(load_path))\n",
    "    test_scores.append(test(model))\n",
    "\n",
    "print(test_scores)\n",
    "print('mean = ',np.mean(test_scores))\n",
    "print('std = ',np.std(test_scores))"
   ]
  },
  {
   "cell_type": "markdown",
   "metadata": {},
   "source": [
    "# Testing for 4 FC layers"
   ]
  },
  {
   "cell_type": "code",
   "execution_count": 24,
   "metadata": {},
   "outputs": [
    {
     "name": "stdout",
     "output_type": "stream",
     "text": [
      "train mean = 8.497\n",
      "train std = 0.4689886992241929\n",
      "val mean = 8.433800000000002\n",
      "val std = 0.49551242164046705\n"
     ]
    }
   ],
   "source": [
    "train_scores = [9.393, 8.197, 8.541, 8.167, 8.187]\n",
    "val_scores = [9.414, 8.256, 8.261, 8.059, 8.179]\n",
    "\n",
    "print('train mean =',np.mean(train_scores))\n",
    "print('train std =',np.std(train_scores))\n",
    "print('val mean =',np.mean(val_scores))\n",
    "print('val std =',np.std(val_scores))"
   ]
  },
  {
   "cell_type": "code",
   "execution_count": 23,
   "metadata": {},
   "outputs": [
    {
     "data": {
      "text/plain": [
       "DataParallel(\n",
       "  (module): Network(\n",
       "    (cv1): Conv3d(1, 32, kernel_size=(3, 3, 3), stride=(1, 1, 1))\n",
       "    (bn1): BatchNorm3d(32, eps=1e-05, momentum=0.1, affine=True, track_running_stats=True)\n",
       "    (cv2): Conv3d(32, 64, kernel_size=(3, 3, 3), stride=(1, 1, 1))\n",
       "    (bn2): BatchNorm3d(64, eps=1e-05, momentum=0.1, affine=True, track_running_stats=True)\n",
       "    (cv3): Conv3d(64, 128, kernel_size=(3, 3, 3), stride=(1, 1, 1))\n",
       "    (bn3): BatchNorm3d(128, eps=1e-05, momentum=0.1, affine=True, track_running_stats=True)\n",
       "    (cv4): Conv3d(128, 256, kernel_size=(3, 3, 3), stride=(1, 1, 1))\n",
       "    (bn4): BatchNorm3d(256, eps=1e-05, momentum=0.1, affine=True, track_running_stats=True)\n",
       "    (cv5): Conv3d(256, 256, kernel_size=(3, 3, 3), stride=(1, 1, 1))\n",
       "    (bn5): BatchNorm3d(256, eps=1e-05, momentum=0.1, affine=True, track_running_stats=True)\n",
       "    (pool): MaxPool3d(kernel_size=2, stride=2, padding=0, dilation=1, ceil_mode=False)\n",
       "    (fc1): Sequential(\n",
       "      (0): Linear(in_features=512, out_features=256, bias=True)\n",
       "      (1): ReLU()\n",
       "      (2): Dropout(p=0.5, inplace=False)\n",
       "      (3): Linear(in_features=256, out_features=128, bias=True)\n",
       "      (4): ReLU()\n",
       "      (5): Dropout(p=0.5, inplace=False)\n",
       "      (6): Linear(in_features=128, out_features=64, bias=True)\n",
       "      (7): ReLU()\n",
       "      (8): Dropout(p=0.5, inplace=False)\n",
       "      (9): Linear(in_features=64, out_features=1, bias=True)\n",
       "    )\n",
       "    (d3d): Dropout3d(p=0.2, inplace=False)\n",
       "    (layer2): Sequential(\n",
       "      (0): Conv3d(32, 64, kernel_size=(3, 3, 3), stride=(1, 1, 1))\n",
       "      (1): BatchNorm3d(64, eps=1e-05, momentum=0.1, affine=True, track_running_stats=True)\n",
       "      (2): MaxPool3d(kernel_size=2, stride=2, padding=0, dilation=1, ceil_mode=False)\n",
       "      (3): ReLU()\n",
       "    )\n",
       "    (layer3): Sequential(\n",
       "      (0): Conv3d(64, 128, kernel_size=(3, 3, 3), stride=(1, 1, 1))\n",
       "      (1): BatchNorm3d(128, eps=1e-05, momentum=0.1, affine=True, track_running_stats=True)\n",
       "      (2): MaxPool3d(kernel_size=2, stride=2, padding=0, dilation=1, ceil_mode=False)\n",
       "      (3): ReLU()\n",
       "    )\n",
       "    (layer4): Sequential(\n",
       "      (0): Conv3d(128, 256, kernel_size=(3, 3, 3), stride=(1, 1, 1))\n",
       "      (1): BatchNorm3d(256, eps=1e-05, momentum=0.1, affine=True, track_running_stats=True)\n",
       "      (2): MaxPool3d(kernel_size=2, stride=2, padding=0, dilation=1, ceil_mode=False)\n",
       "      (3): ReLU()\n",
       "    )\n",
       "    (layer1): Sequential(\n",
       "      (0): Conv3d(1, 32, kernel_size=(3, 3, 3), stride=(1, 1, 1))\n",
       "      (1): BatchNorm3d(32, eps=1e-05, momentum=0.1, affine=True, track_running_stats=True)\n",
       "      (2): MaxPool3d(kernel_size=2, stride=2, padding=0, dilation=1, ceil_mode=False)\n",
       "      (3): ReLU()\n",
       "    )\n",
       "    (layer5): Sequential(\n",
       "      (0): Conv3d(256, 256, kernel_size=(3, 3, 3), stride=(1, 1, 1))\n",
       "      (1): BatchNorm3d(256, eps=1e-05, momentum=0.1, affine=True, track_running_stats=True)\n",
       "      (2): MaxPool3d(kernel_size=2, stride=2, padding=0, dilation=1, ceil_mode=False)\n",
       "      (3): ReLU()\n",
       "    )\n",
       "    (convs): Sequential(\n",
       "      (0): Sequential(\n",
       "        (0): Conv3d(1, 32, kernel_size=(3, 3, 3), stride=(1, 1, 1))\n",
       "        (1): BatchNorm3d(32, eps=1e-05, momentum=0.1, affine=True, track_running_stats=True)\n",
       "        (2): MaxPool3d(kernel_size=2, stride=2, padding=0, dilation=1, ceil_mode=False)\n",
       "        (3): ReLU()\n",
       "      )\n",
       "      (1): Sequential(\n",
       "        (0): Conv3d(32, 64, kernel_size=(3, 3, 3), stride=(1, 1, 1))\n",
       "        (1): BatchNorm3d(64, eps=1e-05, momentum=0.1, affine=True, track_running_stats=True)\n",
       "        (2): MaxPool3d(kernel_size=2, stride=2, padding=0, dilation=1, ceil_mode=False)\n",
       "        (3): ReLU()\n",
       "      )\n",
       "      (2): Sequential(\n",
       "        (0): Conv3d(64, 128, kernel_size=(3, 3, 3), stride=(1, 1, 1))\n",
       "        (1): BatchNorm3d(128, eps=1e-05, momentum=0.1, affine=True, track_running_stats=True)\n",
       "        (2): MaxPool3d(kernel_size=2, stride=2, padding=0, dilation=1, ceil_mode=False)\n",
       "        (3): ReLU()\n",
       "      )\n",
       "      (3): Sequential(\n",
       "        (0): Conv3d(128, 256, kernel_size=(3, 3, 3), stride=(1, 1, 1))\n",
       "        (1): BatchNorm3d(256, eps=1e-05, momentum=0.1, affine=True, track_running_stats=True)\n",
       "        (2): MaxPool3d(kernel_size=2, stride=2, padding=0, dilation=1, ceil_mode=False)\n",
       "        (3): ReLU()\n",
       "      )\n",
       "      (4): Sequential(\n",
       "        (0): Conv3d(256, 256, kernel_size=(3, 3, 3), stride=(1, 1, 1))\n",
       "        (1): BatchNorm3d(256, eps=1e-05, momentum=0.1, affine=True, track_running_stats=True)\n",
       "        (2): MaxPool3d(kernel_size=2, stride=2, padding=0, dilation=1, ceil_mode=False)\n",
       "        (3): ReLU()\n",
       "      )\n",
       "    )\n",
       "    (dropout): Dropout(p=0.2, inplace=False)\n",
       "  )\n",
       ")"
      ]
     },
     "execution_count": 23,
     "metadata": {},
     "output_type": "execute_result"
    }
   ],
   "source": [
    "model = Network()\n",
    "model.fc1 = nn.Sequential(nn.Linear(512,256),nn.ReLU(),\n",
    "    nn.Dropout(),nn.Linear(256,128),nn.ReLU(),nn.Dropout(),\n",
    "    nn.Linear(128,64),nn.ReLU(),nn.Dropout(),nn.Linear(64,1))\n",
    "model = nn.DataParallel(model)\n",
    "model.to(device)"
   ]
  },
  {
   "cell_type": "code",
   "execution_count": 27,
   "metadata": {},
   "outputs": [],
   "source": [
    "best_models_4fc = {\n",
    "    '1' : 'epoch_19',\n",
    "    '2' : 'epoch_68',\n",
    "    #'3' : 'epoch_58',\n",
    "    '4' : 'epoch_67',\n",
    "    '5' : 'epoch_75'\n",
    "}"
   ]
  },
  {
   "cell_type": "code",
   "execution_count": 28,
   "metadata": {},
   "outputs": [
    {
     "name": "stdout",
     "output_type": "stream",
     "text": [
      "[11.75920408176926, 10.971568537958014, 15.077527684985467, 12.054282779813562]\n",
      "mean =  12.465645771131577\n",
      "std =  1.559044040566191\n"
     ]
    }
   ],
   "source": [
    "test_scores = []\n",
    "for k,v in best_models_4fc.items():\n",
    "    load_path = os.path.join(parent_directory,'6189282/models_fold',k,v)\n",
    "    model.load_state_dict(torch.load(load_path))\n",
    "    test_scores.append(test(model))\n",
    "\n",
    "print(test_scores)\n",
    "print('mean = ',np.mean(test_scores))\n",
    "print('std = ',np.std(test_scores))"
   ]
  },
  {
   "cell_type": "markdown",
   "metadata": {},
   "source": [
    "# Testing for 1 FC - Working memory classification"
   ]
  },
  {
   "cell_type": "code",
   "execution_count": 4,
   "metadata": {},
   "outputs": [],
   "source": [
    "valid_size = 0.20\n",
    "# percentage of data to be used for testset\n",
    "test_size = 0.10\n",
    "\n",
    "\n",
    "train_data = CustomDataset(transform = \n",
    "                        transforms.Compose([\n",
    "                            transforms.RandomHorizontalFlip()\n",
    "                            ]),train=True)\n",
    "\n",
    "valid_data = CustomDataset(train=False,test=True)\n",
    "\n",
    "# get filtered variables\n",
    "vars = valid_data.vars"
   ]
  },
  {
   "cell_type": "code",
   "execution_count": 5,
   "metadata": {},
   "outputs": [],
   "source": [
    "num_train = len(train_data)\n",
    "indices = list(range(num_train))\n",
    "np.random.shuffle(indices)\n",
    "test_split = int(np.floor(test_size * num_train))\n",
    "test_idx, train_idx = indices[: test_split], indices[test_split : ]\n",
    "\n",
    "train_rem = len(train_idx)\n",
    "valid_spilt = int(np.floor(valid_size * train_rem))\n",
    "\n",
    "valid_idx, train_idx = indices[: valid_spilt], indices[valid_spilt : ]"
   ]
  },
  {
   "cell_type": "code",
   "execution_count": 6,
   "metadata": {},
   "outputs": [
    {
     "data": {
      "text/plain": [
       "421"
      ]
     },
     "execution_count": 6,
     "metadata": {},
     "output_type": "execute_result"
    }
   ],
   "source": [
    "len(test_idx)"
   ]
  },
  {
   "cell_type": "code",
   "execution_count": 8,
   "metadata": {},
   "outputs": [],
   "source": [
    "test_sampler = SubsetRandomSampler(test_idx)\n",
    "test_loader = DataLoader(valid_data,batch_size = 13, \n",
    "                            sampler = test_sampler, num_workers=2)"
   ]
  },
  {
   "cell_type": "code",
   "execution_count": 9,
   "metadata": {},
   "outputs": [],
   "source": [
    "criterion = nn.CrossEntropyLoss()"
   ]
  },
  {
   "cell_type": "code",
   "execution_count": 10,
   "metadata": {},
   "outputs": [],
   "source": [
    "def test(model):\n",
    "    actual_test = torch.tensor([]).to(device)\n",
    "    pred_test = torch.tensor([]).to(device)\n",
    "\n",
    "    test_loss = 0\n",
    "    num_correct_test = 0\n",
    "\n",
    "    for X, y in test_loader:\n",
    "        X,y = X.to(device),y.to(device)\n",
    "        actual_test = torch.cat((actual_test,y),0)\n",
    "        pred = torch.squeeze(model(torch.unsqueeze(X,1).float()))\n",
    "        pred_test = torch.cat((pred_test,torch.max(F.softmax(pred,dim=1), dim=1)[1]),0)\n",
    "        try:\n",
    "            test_loss += criterion(pred,y).item()\n",
    "            correct = torch.eq(torch.max(F.softmax(pred,dim=1), dim=1)[1],y).view(-1)\n",
    "            num_correct_test += torch.sum(correct).item()\n",
    "\n",
    "        except:\n",
    "            print(pred)\n",
    "            print(y)\n",
    "    \n",
    "    return test_loss/len(test_loader), num_correct_test/len(test_idx)"
   ]
  },
  {
   "cell_type": "code",
   "execution_count": 11,
   "metadata": {},
   "outputs": [
    {
     "name": "stdout",
     "output_type": "stream",
     "text": [
      "train mean = 0.72\n",
      "train std = 0.029065443399335946\n",
      "val mean = 0.663\n",
      "val std = 0.007874007874011818\n"
     ]
    }
   ],
   "source": [
    "train_scores = [0.775, 0.693, 0.715, 0.699, 0.718]\n",
    "val_scores = [0.661,0.650, 0.669, 0.673, 0.662]\n",
    "\n",
    "print('train mean =',np.mean(train_scores))\n",
    "print('train std =',np.std(train_scores))\n",
    "print('val mean =',np.mean(val_scores))\n",
    "print('val std =',np.std(val_scores))"
   ]
  },
  {
   "cell_type": "code",
   "execution_count": 12,
   "metadata": {},
   "outputs": [],
   "source": [
    "best_models_1fc = {\n",
    "    '1' : 'epoch_29',\n",
    "    '2' : 'epoch_10',\n",
    "    '3' : 'epoch_12',\n",
    "    '4' : 'epoch_13',\n",
    "    '5' : 'epoch_14'\n",
    "}"
   ]
  },
  {
   "cell_type": "code",
   "execution_count": 13,
   "metadata": {},
   "outputs": [
    {
     "data": {
      "text/plain": [
       "DataParallel(\n",
       "  (module): Network(\n",
       "    (cv1): Conv3d(1, 32, kernel_size=(3, 3, 3), stride=(1, 1, 1))\n",
       "    (bn1): BatchNorm3d(32, eps=1e-05, momentum=0.1, affine=True, track_running_stats=True)\n",
       "    (cv2): Conv3d(32, 64, kernel_size=(3, 3, 3), stride=(1, 1, 1))\n",
       "    (bn2): BatchNorm3d(64, eps=1e-05, momentum=0.1, affine=True, track_running_stats=True)\n",
       "    (cv3): Conv3d(64, 128, kernel_size=(3, 3, 3), stride=(1, 1, 1))\n",
       "    (bn3): BatchNorm3d(128, eps=1e-05, momentum=0.1, affine=True, track_running_stats=True)\n",
       "    (cv4): Conv3d(128, 256, kernel_size=(3, 3, 3), stride=(1, 1, 1))\n",
       "    (bn4): BatchNorm3d(256, eps=1e-05, momentum=0.1, affine=True, track_running_stats=True)\n",
       "    (cv5): Conv3d(256, 256, kernel_size=(3, 3, 3), stride=(1, 1, 1))\n",
       "    (bn5): BatchNorm3d(256, eps=1e-05, momentum=0.1, affine=True, track_running_stats=True)\n",
       "    (pool): MaxPool3d(kernel_size=2, stride=2, padding=0, dilation=1, ceil_mode=False)\n",
       "    (fc1): Sequential(\n",
       "      (0): Linear(in_features=512, out_features=2, bias=True)\n",
       "    )\n",
       "    (d3d): Dropout3d(p=0.2, inplace=False)\n",
       "    (layer2): Sequential(\n",
       "      (0): Conv3d(32, 64, kernel_size=(3, 3, 3), stride=(1, 1, 1))\n",
       "      (1): BatchNorm3d(64, eps=1e-05, momentum=0.1, affine=True, track_running_stats=True)\n",
       "      (2): MaxPool3d(kernel_size=2, stride=2, padding=0, dilation=1, ceil_mode=False)\n",
       "      (3): ReLU()\n",
       "    )\n",
       "    (layer3): Sequential(\n",
       "      (0): Conv3d(64, 128, kernel_size=(3, 3, 3), stride=(1, 1, 1))\n",
       "      (1): BatchNorm3d(128, eps=1e-05, momentum=0.1, affine=True, track_running_stats=True)\n",
       "      (2): MaxPool3d(kernel_size=2, stride=2, padding=0, dilation=1, ceil_mode=False)\n",
       "      (3): ReLU()\n",
       "    )\n",
       "    (layer4): Sequential(\n",
       "      (0): Conv3d(128, 256, kernel_size=(3, 3, 3), stride=(1, 1, 1))\n",
       "      (1): BatchNorm3d(256, eps=1e-05, momentum=0.1, affine=True, track_running_stats=True)\n",
       "      (2): MaxPool3d(kernel_size=2, stride=2, padding=0, dilation=1, ceil_mode=False)\n",
       "      (3): ReLU()\n",
       "    )\n",
       "    (layer1): Sequential(\n",
       "      (0): Conv3d(1, 32, kernel_size=(3, 3, 3), stride=(1, 1, 1))\n",
       "      (1): BatchNorm3d(32, eps=1e-05, momentum=0.1, affine=True, track_running_stats=True)\n",
       "      (2): MaxPool3d(kernel_size=2, stride=2, padding=0, dilation=1, ceil_mode=False)\n",
       "      (3): ReLU()\n",
       "    )\n",
       "    (layer5): Sequential(\n",
       "      (0): Conv3d(256, 256, kernel_size=(3, 3, 3), stride=(1, 1, 1))\n",
       "      (1): BatchNorm3d(256, eps=1e-05, momentum=0.1, affine=True, track_running_stats=True)\n",
       "      (2): MaxPool3d(kernel_size=2, stride=2, padding=0, dilation=1, ceil_mode=False)\n",
       "      (3): ReLU()\n",
       "    )\n",
       "    (convs): Sequential(\n",
       "      (0): Sequential(\n",
       "        (0): Conv3d(1, 32, kernel_size=(3, 3, 3), stride=(1, 1, 1))\n",
       "        (1): BatchNorm3d(32, eps=1e-05, momentum=0.1, affine=True, track_running_stats=True)\n",
       "        (2): MaxPool3d(kernel_size=2, stride=2, padding=0, dilation=1, ceil_mode=False)\n",
       "        (3): ReLU()\n",
       "      )\n",
       "      (1): Sequential(\n",
       "        (0): Conv3d(32, 64, kernel_size=(3, 3, 3), stride=(1, 1, 1))\n",
       "        (1): BatchNorm3d(64, eps=1e-05, momentum=0.1, affine=True, track_running_stats=True)\n",
       "        (2): MaxPool3d(kernel_size=2, stride=2, padding=0, dilation=1, ceil_mode=False)\n",
       "        (3): ReLU()\n",
       "      )\n",
       "      (2): Sequential(\n",
       "        (0): Conv3d(64, 128, kernel_size=(3, 3, 3), stride=(1, 1, 1))\n",
       "        (1): BatchNorm3d(128, eps=1e-05, momentum=0.1, affine=True, track_running_stats=True)\n",
       "        (2): MaxPool3d(kernel_size=2, stride=2, padding=0, dilation=1, ceil_mode=False)\n",
       "        (3): ReLU()\n",
       "      )\n",
       "      (3): Sequential(\n",
       "        (0): Conv3d(128, 256, kernel_size=(3, 3, 3), stride=(1, 1, 1))\n",
       "        (1): BatchNorm3d(256, eps=1e-05, momentum=0.1, affine=True, track_running_stats=True)\n",
       "        (2): MaxPool3d(kernel_size=2, stride=2, padding=0, dilation=1, ceil_mode=False)\n",
       "        (3): ReLU()\n",
       "      )\n",
       "      (4): Sequential(\n",
       "        (0): Conv3d(256, 256, kernel_size=(3, 3, 3), stride=(1, 1, 1))\n",
       "        (1): BatchNorm3d(256, eps=1e-05, momentum=0.1, affine=True, track_running_stats=True)\n",
       "        (2): MaxPool3d(kernel_size=2, stride=2, padding=0, dilation=1, ceil_mode=False)\n",
       "        (3): ReLU()\n",
       "      )\n",
       "    )\n",
       "    (dropout): Dropout(p=0.2, inplace=False)\n",
       "  )\n",
       ")"
      ]
     },
     "execution_count": 13,
     "metadata": {},
     "output_type": "execute_result"
    }
   ],
   "source": [
    "model = Network()\n",
    "model.fc1 = nn.Sequential(nn.Linear(512,2))\n",
    "model = nn.DataParallel(model)\n",
    "model.to(device)"
   ]
  },
  {
   "cell_type": "code",
   "execution_count": 14,
   "metadata": {},
   "outputs": [
    {
     "name": "stdout",
     "output_type": "stream",
     "text": [
      "[0.7315914489311164, 0.6817102137767221, 0.6318289786223278, 0.672209026128266, 0.6555819477434679]\n",
      "mean =  0.6745843230403801\n",
      "std =  0.033152202037753736\n"
     ]
    }
   ],
   "source": [
    "test_scores = []\n",
    "for k,v in best_models_1fc.items():\n",
    "    load_path = os.path.join(parent_directory,'6239512/models_fold',k,v)\n",
    "    model.load_state_dict(torch.load(load_path))\n",
    "    loss , acc = test(model)\n",
    "    test_scores.append(acc)\n",
    "\n",
    "print(test_scores)\n",
    "print('mean = ',np.mean(test_scores))\n",
    "print('std = ',np.std(test_scores)) "
   ]
  },
  {
   "cell_type": "markdown",
   "metadata": {},
   "source": [
    "# testing 2 Fc working memory"
   ]
  },
  {
   "cell_type": "code",
   "execution_count": 15,
   "metadata": {},
   "outputs": [
    {
     "name": "stdout",
     "output_type": "stream",
     "text": [
      "train mean = 0.6967999999999999\n",
      "train std = 0.01361469794009398\n",
      "val mean = 0.661\n",
      "val std = 0.006542170893518456\n"
     ]
    }
   ],
   "source": [
    "train_scores = [0.690, 0.708, 0.673, 0.707, 0.706]\n",
    "val_scores = [0.659,0.654, 0.662, 0.673, 0.657]\n",
    "\n",
    "print('train mean =',np.mean(train_scores))\n",
    "print('train std =',np.std(train_scores))\n",
    "print('val mean =',np.mean(val_scores))\n",
    "print('val std =',np.std(val_scores))"
   ]
  },
  {
   "cell_type": "code",
   "execution_count": 16,
   "metadata": {},
   "outputs": [],
   "source": [
    "best_models_2fc = {\n",
    "    '1' : 'epoch_31',\n",
    "    '2' : 'epoch_34',\n",
    "    '3' : 'epoch_29',\n",
    "    '4' : 'epoch_36',\n",
    "    '5' : 'epoch_34'\n",
    "}"
   ]
  },
  {
   "cell_type": "code",
   "execution_count": 17,
   "metadata": {},
   "outputs": [
    {
     "data": {
      "text/plain": [
       "DataParallel(\n",
       "  (module): Network(\n",
       "    (cv1): Conv3d(1, 32, kernel_size=(3, 3, 3), stride=(1, 1, 1))\n",
       "    (bn1): BatchNorm3d(32, eps=1e-05, momentum=0.1, affine=True, track_running_stats=True)\n",
       "    (cv2): Conv3d(32, 64, kernel_size=(3, 3, 3), stride=(1, 1, 1))\n",
       "    (bn2): BatchNorm3d(64, eps=1e-05, momentum=0.1, affine=True, track_running_stats=True)\n",
       "    (cv3): Conv3d(64, 128, kernel_size=(3, 3, 3), stride=(1, 1, 1))\n",
       "    (bn3): BatchNorm3d(128, eps=1e-05, momentum=0.1, affine=True, track_running_stats=True)\n",
       "    (cv4): Conv3d(128, 256, kernel_size=(3, 3, 3), stride=(1, 1, 1))\n",
       "    (bn4): BatchNorm3d(256, eps=1e-05, momentum=0.1, affine=True, track_running_stats=True)\n",
       "    (cv5): Conv3d(256, 256, kernel_size=(3, 3, 3), stride=(1, 1, 1))\n",
       "    (bn5): BatchNorm3d(256, eps=1e-05, momentum=0.1, affine=True, track_running_stats=True)\n",
       "    (pool): MaxPool3d(kernel_size=2, stride=2, padding=0, dilation=1, ceil_mode=False)\n",
       "    (fc1): Sequential(\n",
       "      (0): Linear(in_features=512, out_features=256, bias=True)\n",
       "      (1): ReLU()\n",
       "      (2): Dropout(p=0.5, inplace=False)\n",
       "      (3): Linear(in_features=256, out_features=2, bias=True)\n",
       "    )\n",
       "    (d3d): Dropout3d(p=0.2, inplace=False)\n",
       "    (layer2): Sequential(\n",
       "      (0): Conv3d(32, 64, kernel_size=(3, 3, 3), stride=(1, 1, 1))\n",
       "      (1): BatchNorm3d(64, eps=1e-05, momentum=0.1, affine=True, track_running_stats=True)\n",
       "      (2): MaxPool3d(kernel_size=2, stride=2, padding=0, dilation=1, ceil_mode=False)\n",
       "      (3): ReLU()\n",
       "    )\n",
       "    (layer3): Sequential(\n",
       "      (0): Conv3d(64, 128, kernel_size=(3, 3, 3), stride=(1, 1, 1))\n",
       "      (1): BatchNorm3d(128, eps=1e-05, momentum=0.1, affine=True, track_running_stats=True)\n",
       "      (2): MaxPool3d(kernel_size=2, stride=2, padding=0, dilation=1, ceil_mode=False)\n",
       "      (3): ReLU()\n",
       "    )\n",
       "    (layer4): Sequential(\n",
       "      (0): Conv3d(128, 256, kernel_size=(3, 3, 3), stride=(1, 1, 1))\n",
       "      (1): BatchNorm3d(256, eps=1e-05, momentum=0.1, affine=True, track_running_stats=True)\n",
       "      (2): MaxPool3d(kernel_size=2, stride=2, padding=0, dilation=1, ceil_mode=False)\n",
       "      (3): ReLU()\n",
       "    )\n",
       "    (layer1): Sequential(\n",
       "      (0): Conv3d(1, 32, kernel_size=(3, 3, 3), stride=(1, 1, 1))\n",
       "      (1): BatchNorm3d(32, eps=1e-05, momentum=0.1, affine=True, track_running_stats=True)\n",
       "      (2): MaxPool3d(kernel_size=2, stride=2, padding=0, dilation=1, ceil_mode=False)\n",
       "      (3): ReLU()\n",
       "    )\n",
       "    (layer5): Sequential(\n",
       "      (0): Conv3d(256, 256, kernel_size=(3, 3, 3), stride=(1, 1, 1))\n",
       "      (1): BatchNorm3d(256, eps=1e-05, momentum=0.1, affine=True, track_running_stats=True)\n",
       "      (2): MaxPool3d(kernel_size=2, stride=2, padding=0, dilation=1, ceil_mode=False)\n",
       "      (3): ReLU()\n",
       "    )\n",
       "    (convs): Sequential(\n",
       "      (0): Sequential(\n",
       "        (0): Conv3d(1, 32, kernel_size=(3, 3, 3), stride=(1, 1, 1))\n",
       "        (1): BatchNorm3d(32, eps=1e-05, momentum=0.1, affine=True, track_running_stats=True)\n",
       "        (2): MaxPool3d(kernel_size=2, stride=2, padding=0, dilation=1, ceil_mode=False)\n",
       "        (3): ReLU()\n",
       "      )\n",
       "      (1): Sequential(\n",
       "        (0): Conv3d(32, 64, kernel_size=(3, 3, 3), stride=(1, 1, 1))\n",
       "        (1): BatchNorm3d(64, eps=1e-05, momentum=0.1, affine=True, track_running_stats=True)\n",
       "        (2): MaxPool3d(kernel_size=2, stride=2, padding=0, dilation=1, ceil_mode=False)\n",
       "        (3): ReLU()\n",
       "      )\n",
       "      (2): Sequential(\n",
       "        (0): Conv3d(64, 128, kernel_size=(3, 3, 3), stride=(1, 1, 1))\n",
       "        (1): BatchNorm3d(128, eps=1e-05, momentum=0.1, affine=True, track_running_stats=True)\n",
       "        (2): MaxPool3d(kernel_size=2, stride=2, padding=0, dilation=1, ceil_mode=False)\n",
       "        (3): ReLU()\n",
       "      )\n",
       "      (3): Sequential(\n",
       "        (0): Conv3d(128, 256, kernel_size=(3, 3, 3), stride=(1, 1, 1))\n",
       "        (1): BatchNorm3d(256, eps=1e-05, momentum=0.1, affine=True, track_running_stats=True)\n",
       "        (2): MaxPool3d(kernel_size=2, stride=2, padding=0, dilation=1, ceil_mode=False)\n",
       "        (3): ReLU()\n",
       "      )\n",
       "      (4): Sequential(\n",
       "        (0): Conv3d(256, 256, kernel_size=(3, 3, 3), stride=(1, 1, 1))\n",
       "        (1): BatchNorm3d(256, eps=1e-05, momentum=0.1, affine=True, track_running_stats=True)\n",
       "        (2): MaxPool3d(kernel_size=2, stride=2, padding=0, dilation=1, ceil_mode=False)\n",
       "        (3): ReLU()\n",
       "      )\n",
       "    )\n",
       "    (dropout): Dropout(p=0.2, inplace=False)\n",
       "  )\n",
       ")"
      ]
     },
     "execution_count": 17,
     "metadata": {},
     "output_type": "execute_result"
    }
   ],
   "source": [
    "model = Network()\n",
    "model.fc1 = nn.Sequential(nn.Linear(512,256),nn.ReLU(),\n",
    "    nn.Dropout(),nn.Linear(256,2))\n",
    "model = nn.DataParallel(model)\n",
    "model.to(device)"
   ]
  },
  {
   "cell_type": "code",
   "execution_count": 18,
   "metadata": {},
   "outputs": [
    {
     "name": "stdout",
     "output_type": "stream",
     "text": [
      "[0.6793349168646081, 0.6555819477434679, 0.6413301662707839, 0.6817102137767221, 0.6864608076009501]\n",
      "mean =  0.6688836104513063\n",
      "std =  0.017428918126217715\n"
     ]
    }
   ],
   "source": [
    "test_scores = []\n",
    "for k,v in best_models_2fc.items():\n",
    "    load_path = os.path.join(parent_directory,'6297626/models_fold',k,v)\n",
    "    model.load_state_dict(torch.load(load_path))\n",
    "    loss , acc = test(model)\n",
    "    test_scores.append(acc)\n",
    "\n",
    "print(test_scores)\n",
    "print('mean = ',np.mean(test_scores))\n",
    "print('std = ',np.std(test_scores)) "
   ]
  },
  {
   "cell_type": "markdown",
   "metadata": {},
   "source": [
    "# Testing for 3 Fcs"
   ]
  },
  {
   "cell_type": "code",
   "execution_count": 19,
   "metadata": {},
   "outputs": [
    {
     "name": "stdout",
     "output_type": "stream",
     "text": [
      "train mean = 0.6838\n",
      "train std = 0.009599999999999956\n",
      "val mean = 0.6614\n",
      "val std = 0.010461357464497625\n"
     ]
    }
   ],
   "source": [
    "train_scores = [0.696, 0.672, 0.673, 0.688, 0.690]\n",
    "val_scores = [0.662,0.653, 0.662, 0.680, 0.650]\n",
    "\n",
    "print('train mean =',np.mean(train_scores))\n",
    "print('train std =',np.std(train_scores))\n",
    "print('val mean =',np.mean(val_scores))\n",
    "print('val std =',np.std(val_scores))"
   ]
  },
  {
   "cell_type": "code",
   "execution_count": 20,
   "metadata": {},
   "outputs": [],
   "source": [
    "best_models_3fc = {\n",
    "    '1' : 'epoch_74',\n",
    "    '2' : 'epoch_50',\n",
    "    '3' : 'epoch_73',\n",
    "    '4' : 'epoch_67',\n",
    "    '5' : 'epoch_34'\n",
    "}"
   ]
  },
  {
   "cell_type": "code",
   "execution_count": 21,
   "metadata": {},
   "outputs": [
    {
     "data": {
      "text/plain": [
       "DataParallel(\n",
       "  (module): Network(\n",
       "    (cv1): Conv3d(1, 32, kernel_size=(3, 3, 3), stride=(1, 1, 1))\n",
       "    (bn1): BatchNorm3d(32, eps=1e-05, momentum=0.1, affine=True, track_running_stats=True)\n",
       "    (cv2): Conv3d(32, 64, kernel_size=(3, 3, 3), stride=(1, 1, 1))\n",
       "    (bn2): BatchNorm3d(64, eps=1e-05, momentum=0.1, affine=True, track_running_stats=True)\n",
       "    (cv3): Conv3d(64, 128, kernel_size=(3, 3, 3), stride=(1, 1, 1))\n",
       "    (bn3): BatchNorm3d(128, eps=1e-05, momentum=0.1, affine=True, track_running_stats=True)\n",
       "    (cv4): Conv3d(128, 256, kernel_size=(3, 3, 3), stride=(1, 1, 1))\n",
       "    (bn4): BatchNorm3d(256, eps=1e-05, momentum=0.1, affine=True, track_running_stats=True)\n",
       "    (cv5): Conv3d(256, 256, kernel_size=(3, 3, 3), stride=(1, 1, 1))\n",
       "    (bn5): BatchNorm3d(256, eps=1e-05, momentum=0.1, affine=True, track_running_stats=True)\n",
       "    (pool): MaxPool3d(kernel_size=2, stride=2, padding=0, dilation=1, ceil_mode=False)\n",
       "    (fc1): Sequential(\n",
       "      (0): Linear(in_features=512, out_features=256, bias=True)\n",
       "      (1): ReLU()\n",
       "      (2): Dropout(p=0.5, inplace=False)\n",
       "      (3): Linear(in_features=256, out_features=128, bias=True)\n",
       "      (4): ReLU()\n",
       "      (5): Dropout(p=0.5, inplace=False)\n",
       "      (6): Linear(in_features=128, out_features=2, bias=True)\n",
       "    )\n",
       "    (d3d): Dropout3d(p=0.2, inplace=False)\n",
       "    (layer2): Sequential(\n",
       "      (0): Conv3d(32, 64, kernel_size=(3, 3, 3), stride=(1, 1, 1))\n",
       "      (1): BatchNorm3d(64, eps=1e-05, momentum=0.1, affine=True, track_running_stats=True)\n",
       "      (2): MaxPool3d(kernel_size=2, stride=2, padding=0, dilation=1, ceil_mode=False)\n",
       "      (3): ReLU()\n",
       "    )\n",
       "    (layer3): Sequential(\n",
       "      (0): Conv3d(64, 128, kernel_size=(3, 3, 3), stride=(1, 1, 1))\n",
       "      (1): BatchNorm3d(128, eps=1e-05, momentum=0.1, affine=True, track_running_stats=True)\n",
       "      (2): MaxPool3d(kernel_size=2, stride=2, padding=0, dilation=1, ceil_mode=False)\n",
       "      (3): ReLU()\n",
       "    )\n",
       "    (layer4): Sequential(\n",
       "      (0): Conv3d(128, 256, kernel_size=(3, 3, 3), stride=(1, 1, 1))\n",
       "      (1): BatchNorm3d(256, eps=1e-05, momentum=0.1, affine=True, track_running_stats=True)\n",
       "      (2): MaxPool3d(kernel_size=2, stride=2, padding=0, dilation=1, ceil_mode=False)\n",
       "      (3): ReLU()\n",
       "    )\n",
       "    (layer1): Sequential(\n",
       "      (0): Conv3d(1, 32, kernel_size=(3, 3, 3), stride=(1, 1, 1))\n",
       "      (1): BatchNorm3d(32, eps=1e-05, momentum=0.1, affine=True, track_running_stats=True)\n",
       "      (2): MaxPool3d(kernel_size=2, stride=2, padding=0, dilation=1, ceil_mode=False)\n",
       "      (3): ReLU()\n",
       "    )\n",
       "    (layer5): Sequential(\n",
       "      (0): Conv3d(256, 256, kernel_size=(3, 3, 3), stride=(1, 1, 1))\n",
       "      (1): BatchNorm3d(256, eps=1e-05, momentum=0.1, affine=True, track_running_stats=True)\n",
       "      (2): MaxPool3d(kernel_size=2, stride=2, padding=0, dilation=1, ceil_mode=False)\n",
       "      (3): ReLU()\n",
       "    )\n",
       "    (convs): Sequential(\n",
       "      (0): Sequential(\n",
       "        (0): Conv3d(1, 32, kernel_size=(3, 3, 3), stride=(1, 1, 1))\n",
       "        (1): BatchNorm3d(32, eps=1e-05, momentum=0.1, affine=True, track_running_stats=True)\n",
       "        (2): MaxPool3d(kernel_size=2, stride=2, padding=0, dilation=1, ceil_mode=False)\n",
       "        (3): ReLU()\n",
       "      )\n",
       "      (1): Sequential(\n",
       "        (0): Conv3d(32, 64, kernel_size=(3, 3, 3), stride=(1, 1, 1))\n",
       "        (1): BatchNorm3d(64, eps=1e-05, momentum=0.1, affine=True, track_running_stats=True)\n",
       "        (2): MaxPool3d(kernel_size=2, stride=2, padding=0, dilation=1, ceil_mode=False)\n",
       "        (3): ReLU()\n",
       "      )\n",
       "      (2): Sequential(\n",
       "        (0): Conv3d(64, 128, kernel_size=(3, 3, 3), stride=(1, 1, 1))\n",
       "        (1): BatchNorm3d(128, eps=1e-05, momentum=0.1, affine=True, track_running_stats=True)\n",
       "        (2): MaxPool3d(kernel_size=2, stride=2, padding=0, dilation=1, ceil_mode=False)\n",
       "        (3): ReLU()\n",
       "      )\n",
       "      (3): Sequential(\n",
       "        (0): Conv3d(128, 256, kernel_size=(3, 3, 3), stride=(1, 1, 1))\n",
       "        (1): BatchNorm3d(256, eps=1e-05, momentum=0.1, affine=True, track_running_stats=True)\n",
       "        (2): MaxPool3d(kernel_size=2, stride=2, padding=0, dilation=1, ceil_mode=False)\n",
       "        (3): ReLU()\n",
       "      )\n",
       "      (4): Sequential(\n",
       "        (0): Conv3d(256, 256, kernel_size=(3, 3, 3), stride=(1, 1, 1))\n",
       "        (1): BatchNorm3d(256, eps=1e-05, momentum=0.1, affine=True, track_running_stats=True)\n",
       "        (2): MaxPool3d(kernel_size=2, stride=2, padding=0, dilation=1, ceil_mode=False)\n",
       "        (3): ReLU()\n",
       "      )\n",
       "    )\n",
       "    (dropout): Dropout(p=0.2, inplace=False)\n",
       "  )\n",
       ")"
      ]
     },
     "execution_count": 21,
     "metadata": {},
     "output_type": "execute_result"
    }
   ],
   "source": [
    "model = Network()\n",
    "model.fc1 = nn.Sequential(nn.Linear(512,256),nn.ReLU(),\n",
    "    nn.Dropout(),nn.Linear(256,128),nn.ReLU(),nn.Dropout(),\n",
    "    nn.Linear(128,2))\n",
    "model = nn.DataParallel(model)\n",
    "model.to(device)"
   ]
  },
  {
   "cell_type": "code",
   "execution_count": 22,
   "metadata": {},
   "outputs": [
    {
     "name": "stdout",
     "output_type": "stream",
     "text": [
      "[0.6555819477434679, 0.6579572446555819, 0.6532066508313539, 0.6057007125890737, 0.6769596199524941]\n",
      "mean =  0.6498812351543943\n",
      "std =  0.023638679913776203\n"
     ]
    }
   ],
   "source": [
    "test_scores = []\n",
    "for k,v in best_models_3fc.items():\n",
    "    load_path = os.path.join(parent_directory,'6297747/models_fold',k,v)\n",
    "    model.load_state_dict(torch.load(load_path))\n",
    "    loss , acc = test(model)\n",
    "    test_scores.append(acc)\n",
    "\n",
    "print(test_scores)\n",
    "print('mean = ',np.mean(test_scores))\n",
    "print('std = ',np.std(test_scores)) "
   ]
  },
  {
   "cell_type": "markdown",
   "metadata": {},
   "source": [
    "# Testing 4 FCs"
   ]
  },
  {
   "cell_type": "code",
   "execution_count": 23,
   "metadata": {},
   "outputs": [
    {
     "name": "stdout",
     "output_type": "stream",
     "text": [
      "train mean = 0.6446\n",
      "train std = 0.00601996677731697\n",
      "val mean = 0.6468\n",
      "val std = 0.009703607576566572\n"
     ]
    }
   ],
   "source": [
    "train_scores = [0.645, 0.654, 0.645, 0.644, 0.635]\n",
    "val_scores = [0.648,0.656, 0.646, 0.655, 0.629]\n",
    "\n",
    "print('train mean =',np.mean(train_scores))\n",
    "print('train std =',np.std(train_scores))\n",
    "print('val mean =',np.mean(val_scores))\n",
    "print('val std =',np.std(val_scores))"
   ]
  },
  {
   "cell_type": "code",
   "execution_count": 24,
   "metadata": {},
   "outputs": [],
   "source": [
    "best_models_4fc = {\n",
    "    '1' : 'epoch_55',\n",
    "    '2' : 'epoch_72',\n",
    "    '3' : 'epoch_70',\n",
    "    '4' : 'epoch_61',\n",
    "    '5' : 'epoch_49'\n",
    "}"
   ]
  },
  {
   "cell_type": "code",
   "execution_count": 25,
   "metadata": {},
   "outputs": [
    {
     "data": {
      "text/plain": [
       "DataParallel(\n",
       "  (module): Network(\n",
       "    (cv1): Conv3d(1, 32, kernel_size=(3, 3, 3), stride=(1, 1, 1))\n",
       "    (bn1): BatchNorm3d(32, eps=1e-05, momentum=0.1, affine=True, track_running_stats=True)\n",
       "    (cv2): Conv3d(32, 64, kernel_size=(3, 3, 3), stride=(1, 1, 1))\n",
       "    (bn2): BatchNorm3d(64, eps=1e-05, momentum=0.1, affine=True, track_running_stats=True)\n",
       "    (cv3): Conv3d(64, 128, kernel_size=(3, 3, 3), stride=(1, 1, 1))\n",
       "    (bn3): BatchNorm3d(128, eps=1e-05, momentum=0.1, affine=True, track_running_stats=True)\n",
       "    (cv4): Conv3d(128, 256, kernel_size=(3, 3, 3), stride=(1, 1, 1))\n",
       "    (bn4): BatchNorm3d(256, eps=1e-05, momentum=0.1, affine=True, track_running_stats=True)\n",
       "    (cv5): Conv3d(256, 256, kernel_size=(3, 3, 3), stride=(1, 1, 1))\n",
       "    (bn5): BatchNorm3d(256, eps=1e-05, momentum=0.1, affine=True, track_running_stats=True)\n",
       "    (pool): MaxPool3d(kernel_size=2, stride=2, padding=0, dilation=1, ceil_mode=False)\n",
       "    (fc1): Sequential(\n",
       "      (0): Linear(in_features=512, out_features=256, bias=True)\n",
       "      (1): ReLU()\n",
       "      (2): Dropout(p=0.5, inplace=False)\n",
       "      (3): Linear(in_features=256, out_features=128, bias=True)\n",
       "      (4): ReLU()\n",
       "      (5): Dropout(p=0.5, inplace=False)\n",
       "      (6): Linear(in_features=128, out_features=64, bias=True)\n",
       "      (7): ReLU()\n",
       "      (8): Dropout(p=0.5, inplace=False)\n",
       "      (9): Linear(in_features=64, out_features=2, bias=True)\n",
       "    )\n",
       "    (d3d): Dropout3d(p=0.2, inplace=False)\n",
       "    (layer2): Sequential(\n",
       "      (0): Conv3d(32, 64, kernel_size=(3, 3, 3), stride=(1, 1, 1))\n",
       "      (1): BatchNorm3d(64, eps=1e-05, momentum=0.1, affine=True, track_running_stats=True)\n",
       "      (2): MaxPool3d(kernel_size=2, stride=2, padding=0, dilation=1, ceil_mode=False)\n",
       "      (3): ReLU()\n",
       "    )\n",
       "    (layer3): Sequential(\n",
       "      (0): Conv3d(64, 128, kernel_size=(3, 3, 3), stride=(1, 1, 1))\n",
       "      (1): BatchNorm3d(128, eps=1e-05, momentum=0.1, affine=True, track_running_stats=True)\n",
       "      (2): MaxPool3d(kernel_size=2, stride=2, padding=0, dilation=1, ceil_mode=False)\n",
       "      (3): ReLU()\n",
       "    )\n",
       "    (layer4): Sequential(\n",
       "      (0): Conv3d(128, 256, kernel_size=(3, 3, 3), stride=(1, 1, 1))\n",
       "      (1): BatchNorm3d(256, eps=1e-05, momentum=0.1, affine=True, track_running_stats=True)\n",
       "      (2): MaxPool3d(kernel_size=2, stride=2, padding=0, dilation=1, ceil_mode=False)\n",
       "      (3): ReLU()\n",
       "    )\n",
       "    (layer1): Sequential(\n",
       "      (0): Conv3d(1, 32, kernel_size=(3, 3, 3), stride=(1, 1, 1))\n",
       "      (1): BatchNorm3d(32, eps=1e-05, momentum=0.1, affine=True, track_running_stats=True)\n",
       "      (2): MaxPool3d(kernel_size=2, stride=2, padding=0, dilation=1, ceil_mode=False)\n",
       "      (3): ReLU()\n",
       "    )\n",
       "    (layer5): Sequential(\n",
       "      (0): Conv3d(256, 256, kernel_size=(3, 3, 3), stride=(1, 1, 1))\n",
       "      (1): BatchNorm3d(256, eps=1e-05, momentum=0.1, affine=True, track_running_stats=True)\n",
       "      (2): MaxPool3d(kernel_size=2, stride=2, padding=0, dilation=1, ceil_mode=False)\n",
       "      (3): ReLU()\n",
       "    )\n",
       "    (convs): Sequential(\n",
       "      (0): Sequential(\n",
       "        (0): Conv3d(1, 32, kernel_size=(3, 3, 3), stride=(1, 1, 1))\n",
       "        (1): BatchNorm3d(32, eps=1e-05, momentum=0.1, affine=True, track_running_stats=True)\n",
       "        (2): MaxPool3d(kernel_size=2, stride=2, padding=0, dilation=1, ceil_mode=False)\n",
       "        (3): ReLU()\n",
       "      )\n",
       "      (1): Sequential(\n",
       "        (0): Conv3d(32, 64, kernel_size=(3, 3, 3), stride=(1, 1, 1))\n",
       "        (1): BatchNorm3d(64, eps=1e-05, momentum=0.1, affine=True, track_running_stats=True)\n",
       "        (2): MaxPool3d(kernel_size=2, stride=2, padding=0, dilation=1, ceil_mode=False)\n",
       "        (3): ReLU()\n",
       "      )\n",
       "      (2): Sequential(\n",
       "        (0): Conv3d(64, 128, kernel_size=(3, 3, 3), stride=(1, 1, 1))\n",
       "        (1): BatchNorm3d(128, eps=1e-05, momentum=0.1, affine=True, track_running_stats=True)\n",
       "        (2): MaxPool3d(kernel_size=2, stride=2, padding=0, dilation=1, ceil_mode=False)\n",
       "        (3): ReLU()\n",
       "      )\n",
       "      (3): Sequential(\n",
       "        (0): Conv3d(128, 256, kernel_size=(3, 3, 3), stride=(1, 1, 1))\n",
       "        (1): BatchNorm3d(256, eps=1e-05, momentum=0.1, affine=True, track_running_stats=True)\n",
       "        (2): MaxPool3d(kernel_size=2, stride=2, padding=0, dilation=1, ceil_mode=False)\n",
       "        (3): ReLU()\n",
       "      )\n",
       "      (4): Sequential(\n",
       "        (0): Conv3d(256, 256, kernel_size=(3, 3, 3), stride=(1, 1, 1))\n",
       "        (1): BatchNorm3d(256, eps=1e-05, momentum=0.1, affine=True, track_running_stats=True)\n",
       "        (2): MaxPool3d(kernel_size=2, stride=2, padding=0, dilation=1, ceil_mode=False)\n",
       "        (3): ReLU()\n",
       "      )\n",
       "    )\n",
       "    (dropout): Dropout(p=0.2, inplace=False)\n",
       "  )\n",
       ")"
      ]
     },
     "execution_count": 25,
     "metadata": {},
     "output_type": "execute_result"
    }
   ],
   "source": [
    "model = Network()\n",
    "model.fc1 = nn.Sequential(nn.Linear(512,256),nn.ReLU(),\n",
    "    nn.Dropout(),nn.Linear(256,128),nn.ReLU(),nn.Dropout(),\n",
    "    nn.Linear(128,64),nn.ReLU(), nn.Dropout(),nn.Linear(64,2))\n",
    "model = nn.DataParallel(model)\n",
    "model.to(device)"
   ]
  },
  {
   "cell_type": "code",
   "execution_count": 26,
   "metadata": {},
   "outputs": [
    {
     "name": "stdout",
     "output_type": "stream",
     "text": [
      "[0.6104513064133017, 0.6365795724465558, 0.6318289786223278, 0.6104513064133017, 0.6033254156769596]\n",
      "mean =  0.6185273159144893\n",
      "std =  0.013148078387741603\n"
     ]
    }
   ],
   "source": [
    "test_scores = []\n",
    "for k,v in best_models_4fc.items():\n",
    "    load_path = os.path.join(parent_directory,'1364551/models_fold',k,v)\n",
    "    model.load_state_dict(torch.load(load_path))\n",
    "    loss , acc = test(model)\n",
    "    test_scores.append(acc)\n",
    "\n",
    "print(test_scores)\n",
    "print('mean = ',np.mean(test_scores))\n",
    "print('std = ',np.std(test_scores)) "
   ]
  },
  {
   "cell_type": "markdown",
   "metadata": {},
   "source": [
    "# Testing 5 FCs"
   ]
  },
  {
   "cell_type": "code",
   "execution_count": 27,
   "metadata": {},
   "outputs": [
    {
     "name": "stdout",
     "output_type": "stream",
     "text": [
      "train mean = 0.5875999999999999\n",
      "train std = 0.04564471491859709\n",
      "val mean = 0.6155999999999999\n",
      "val std = 0.042325406081926725\n"
     ]
    }
   ],
   "source": [
    "train_scores = [0.586, 0.623, 0.610, 0.500, 0.619]\n",
    "val_scores = [0.624,0.647, 0.646, 0.533, 0.628]\n",
    "\n",
    "print('train mean =',np.mean(train_scores))\n",
    "print('train std =',np.std(train_scores))\n",
    "print('val mean =',np.mean(val_scores))\n",
    "print('val std =',np.std(val_scores))"
   ]
  },
  {
   "cell_type": "code",
   "execution_count": 28,
   "metadata": {},
   "outputs": [],
   "source": [
    "best_models_5fc = {\n",
    "    '1' : 'epoch_52',\n",
    "    '2' : 'epoch_73',\n",
    "    '3' : 'epoch_74',\n",
    "    '4' : 'epoch_7',\n",
    "    '5' : 'epoch_74'\n",
    "}"
   ]
  },
  {
   "cell_type": "code",
   "execution_count": 29,
   "metadata": {},
   "outputs": [
    {
     "data": {
      "text/plain": [
       "DataParallel(\n",
       "  (module): Network(\n",
       "    (cv1): Conv3d(1, 32, kernel_size=(3, 3, 3), stride=(1, 1, 1))\n",
       "    (bn1): BatchNorm3d(32, eps=1e-05, momentum=0.1, affine=True, track_running_stats=True)\n",
       "    (cv2): Conv3d(32, 64, kernel_size=(3, 3, 3), stride=(1, 1, 1))\n",
       "    (bn2): BatchNorm3d(64, eps=1e-05, momentum=0.1, affine=True, track_running_stats=True)\n",
       "    (cv3): Conv3d(64, 128, kernel_size=(3, 3, 3), stride=(1, 1, 1))\n",
       "    (bn3): BatchNorm3d(128, eps=1e-05, momentum=0.1, affine=True, track_running_stats=True)\n",
       "    (cv4): Conv3d(128, 256, kernel_size=(3, 3, 3), stride=(1, 1, 1))\n",
       "    (bn4): BatchNorm3d(256, eps=1e-05, momentum=0.1, affine=True, track_running_stats=True)\n",
       "    (cv5): Conv3d(256, 256, kernel_size=(3, 3, 3), stride=(1, 1, 1))\n",
       "    (bn5): BatchNorm3d(256, eps=1e-05, momentum=0.1, affine=True, track_running_stats=True)\n",
       "    (pool): MaxPool3d(kernel_size=2, stride=2, padding=0, dilation=1, ceil_mode=False)\n",
       "    (fc1): Sequential(\n",
       "      (0): Linear(in_features=512, out_features=256, bias=True)\n",
       "      (1): ReLU()\n",
       "      (2): Dropout(p=0.25, inplace=False)\n",
       "      (3): Linear(in_features=256, out_features=128, bias=True)\n",
       "      (4): ReLU()\n",
       "      (5): Dropout(p=0.25, inplace=False)\n",
       "      (6): Linear(in_features=128, out_features=64, bias=True)\n",
       "      (7): ReLU()\n",
       "      (8): Dropout(p=0.5, inplace=False)\n",
       "      (9): Linear(in_features=64, out_features=32, bias=True)\n",
       "      (10): ReLU()\n",
       "      (11): Dropout(p=0.5, inplace=False)\n",
       "      (12): Linear(in_features=32, out_features=2, bias=True)\n",
       "    )\n",
       "    (d3d): Dropout3d(p=0.2, inplace=False)\n",
       "    (layer2): Sequential(\n",
       "      (0): Conv3d(32, 64, kernel_size=(3, 3, 3), stride=(1, 1, 1))\n",
       "      (1): BatchNorm3d(64, eps=1e-05, momentum=0.1, affine=True, track_running_stats=True)\n",
       "      (2): MaxPool3d(kernel_size=2, stride=2, padding=0, dilation=1, ceil_mode=False)\n",
       "      (3): ReLU()\n",
       "    )\n",
       "    (layer3): Sequential(\n",
       "      (0): Conv3d(64, 128, kernel_size=(3, 3, 3), stride=(1, 1, 1))\n",
       "      (1): BatchNorm3d(128, eps=1e-05, momentum=0.1, affine=True, track_running_stats=True)\n",
       "      (2): MaxPool3d(kernel_size=2, stride=2, padding=0, dilation=1, ceil_mode=False)\n",
       "      (3): ReLU()\n",
       "    )\n",
       "    (layer4): Sequential(\n",
       "      (0): Conv3d(128, 256, kernel_size=(3, 3, 3), stride=(1, 1, 1))\n",
       "      (1): BatchNorm3d(256, eps=1e-05, momentum=0.1, affine=True, track_running_stats=True)\n",
       "      (2): MaxPool3d(kernel_size=2, stride=2, padding=0, dilation=1, ceil_mode=False)\n",
       "      (3): ReLU()\n",
       "    )\n",
       "    (layer1): Sequential(\n",
       "      (0): Conv3d(1, 32, kernel_size=(3, 3, 3), stride=(1, 1, 1))\n",
       "      (1): BatchNorm3d(32, eps=1e-05, momentum=0.1, affine=True, track_running_stats=True)\n",
       "      (2): MaxPool3d(kernel_size=2, stride=2, padding=0, dilation=1, ceil_mode=False)\n",
       "      (3): ReLU()\n",
       "    )\n",
       "    (layer5): Sequential(\n",
       "      (0): Conv3d(256, 256, kernel_size=(3, 3, 3), stride=(1, 1, 1))\n",
       "      (1): BatchNorm3d(256, eps=1e-05, momentum=0.1, affine=True, track_running_stats=True)\n",
       "      (2): MaxPool3d(kernel_size=2, stride=2, padding=0, dilation=1, ceil_mode=False)\n",
       "      (3): ReLU()\n",
       "    )\n",
       "    (convs): Sequential(\n",
       "      (0): Sequential(\n",
       "        (0): Conv3d(1, 32, kernel_size=(3, 3, 3), stride=(1, 1, 1))\n",
       "        (1): BatchNorm3d(32, eps=1e-05, momentum=0.1, affine=True, track_running_stats=True)\n",
       "        (2): MaxPool3d(kernel_size=2, stride=2, padding=0, dilation=1, ceil_mode=False)\n",
       "        (3): ReLU()\n",
       "      )\n",
       "      (1): Sequential(\n",
       "        (0): Conv3d(32, 64, kernel_size=(3, 3, 3), stride=(1, 1, 1))\n",
       "        (1): BatchNorm3d(64, eps=1e-05, momentum=0.1, affine=True, track_running_stats=True)\n",
       "        (2): MaxPool3d(kernel_size=2, stride=2, padding=0, dilation=1, ceil_mode=False)\n",
       "        (3): ReLU()\n",
       "      )\n",
       "      (2): Sequential(\n",
       "        (0): Conv3d(64, 128, kernel_size=(3, 3, 3), stride=(1, 1, 1))\n",
       "        (1): BatchNorm3d(128, eps=1e-05, momentum=0.1, affine=True, track_running_stats=True)\n",
       "        (2): MaxPool3d(kernel_size=2, stride=2, padding=0, dilation=1, ceil_mode=False)\n",
       "        (3): ReLU()\n",
       "      )\n",
       "      (3): Sequential(\n",
       "        (0): Conv3d(128, 256, kernel_size=(3, 3, 3), stride=(1, 1, 1))\n",
       "        (1): BatchNorm3d(256, eps=1e-05, momentum=0.1, affine=True, track_running_stats=True)\n",
       "        (2): MaxPool3d(kernel_size=2, stride=2, padding=0, dilation=1, ceil_mode=False)\n",
       "        (3): ReLU()\n",
       "      )\n",
       "      (4): Sequential(\n",
       "        (0): Conv3d(256, 256, kernel_size=(3, 3, 3), stride=(1, 1, 1))\n",
       "        (1): BatchNorm3d(256, eps=1e-05, momentum=0.1, affine=True, track_running_stats=True)\n",
       "        (2): MaxPool3d(kernel_size=2, stride=2, padding=0, dilation=1, ceil_mode=False)\n",
       "        (3): ReLU()\n",
       "      )\n",
       "    )\n",
       "    (dropout): Dropout(p=0.2, inplace=False)\n",
       "  )\n",
       ")"
      ]
     },
     "execution_count": 29,
     "metadata": {},
     "output_type": "execute_result"
    }
   ],
   "source": [
    "model = Network()\n",
    "model.fc1 = nn.Sequential(nn.Linear(512,256),nn.ReLU(),nn.Dropout(0.25),\n",
    "        nn.Linear(256,128),nn.ReLU(),nn.Dropout(0.25),nn.Linear(128,64),nn.ReLU()\n",
    "        ,nn.Dropout(), nn.Linear(64,32),nn.ReLU(),nn.Dropout(),nn.Linear(32,2))\n",
    "model = nn.DataParallel(model)\n",
    "model.to(device)"
   ]
  },
  {
   "cell_type": "code",
   "execution_count": 30,
   "metadata": {},
   "outputs": [
    {
     "name": "stdout",
     "output_type": "stream",
     "text": [
      "[0.6460807600950119, 0.6104513064133017, 0.6413301662707839, 0.47980997624703087, 0.6247030878859857]\n",
      "mean =  0.6004750593824227\n",
      "std =  0.0616370097496744\n"
     ]
    }
   ],
   "source": [
    "test_scores = []\n",
    "for k,v in best_models_5fc.items():\n",
    "    load_path = os.path.join(parent_directory,'1369811/models_fold',k,v)\n",
    "    model.load_state_dict(torch.load(load_path))\n",
    "    loss , acc = test(model)\n",
    "    test_scores.append(acc)\n",
    "\n",
    "print(test_scores)\n",
    "print('mean = ',np.mean(test_scores))\n",
    "print('std = ',np.std(test_scores)) "
   ]
  },
  {
   "cell_type": "code",
   "execution_count": null,
   "metadata": {},
   "outputs": [],
   "source": []
  }
 ],
 "metadata": {
  "kernelspec": {
   "display_name": "Python 3 (ipykernel)",
   "language": "python",
   "name": "python3"
  },
  "language_info": {
   "name": "python",
   "version": "3.10.4"
  },
  "orig_nbformat": 4,
  "vscode": {
   "interpreter": {
    "hash": "65354879b211816c06816317081346b51d26a7261dd303864e7df7aa3071e8ab"
   }
  }
 },
 "nbformat": 4,
 "nbformat_minor": 2
}
